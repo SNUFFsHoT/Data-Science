{
 "cells": [
  {
   "cell_type": "code",
   "execution_count": 103,
   "id": "10c48f53",
   "metadata": {},
   "outputs": [],
   "source": [
    "import numpy as np\n",
    "from numpy import set_printoptions\n",
    "import pandas as pd\n",
    "import matplotlib.pyplot as plt\n",
    "import plotly.graph_objects as go\n",
    "from plotly.subplots import make_subplots\n",
    "import seaborn as sns\n",
    "from collections import Counter\n",
    "sns.set_style('darkgrid')\n",
    "from imblearn.pipeline import Pipeline\n",
    "from dataprep.eda import plot, plot_correlation, plot_missing, create_report\n",
    "import plotly.express as px\n",
    "from plotly.offline import plot as off\n",
    "import plotly.figure_factory as ff\n",
    "import plotly.io as pio\n",
    "from sklearn.preprocessing import StandardScaler, LabelEncoder, MinMaxScaler, scale\n",
    "from sklearn.ensemble import RandomForestRegressor\n",
    "from sklearn.metrics import mean_squared_error\n",
    "from sklearn.model_selection import GridSearchCV, KFold, StratifiedKFold, cross_val_score, \\\n",
    "                                    train_test_split, RandomizedSearchCV\n",
    "import warnings\n",
    "warnings.filterwarnings('ignore')\n",
    "from keras.optimizers import Adam\n",
    "from kerastuner.tuners import RandomSearch\n",
    "from tensorflow.keras import layers\n",
    "from tensorflow import keras\n",
    "from keras.models import Sequential\n",
    "from keras.layers import Dense\n",
    "from keras.layers import Dropout\n",
    "from keras.utils import np_utils\n",
    "from keras.constraints import maxnorm\n",
    "from keras.wrappers.scikit_learn import KerasRegressor, KerasClassifier\n",
    "from sklearn.feature_selection import SelectKBest\n",
    "from sklearn.feature_selection import mutual_info_regression"
   ]
  },
  {
   "cell_type": "code",
   "execution_count": 4,
   "id": "a72391e9",
   "metadata": {},
   "outputs": [
    {
     "data": {
      "text/html": [
       "<div>\n",
       "<style scoped>\n",
       "    .dataframe tbody tr th:only-of-type {\n",
       "        vertical-align: middle;\n",
       "    }\n",
       "\n",
       "    .dataframe tbody tr th {\n",
       "        vertical-align: top;\n",
       "    }\n",
       "\n",
       "    .dataframe thead th {\n",
       "        text-align: right;\n",
       "    }\n",
       "</style>\n",
       "<table border=\"1\" class=\"dataframe\">\n",
       "  <thead>\n",
       "    <tr style=\"text-align: right;\">\n",
       "      <th></th>\n",
       "      <th>AT</th>\n",
       "      <th>AP</th>\n",
       "      <th>AH</th>\n",
       "      <th>AFDP</th>\n",
       "      <th>GTEP</th>\n",
       "      <th>TIT</th>\n",
       "      <th>TAT</th>\n",
       "      <th>TEY</th>\n",
       "      <th>CDP</th>\n",
       "      <th>CO</th>\n",
       "      <th>NOX</th>\n",
       "    </tr>\n",
       "  </thead>\n",
       "  <tbody>\n",
       "    <tr>\n",
       "      <th>0</th>\n",
       "      <td>6.8594</td>\n",
       "      <td>1007.9</td>\n",
       "      <td>96.799</td>\n",
       "      <td>3.5000</td>\n",
       "      <td>19.663</td>\n",
       "      <td>1059.2</td>\n",
       "      <td>550.00</td>\n",
       "      <td>114.70</td>\n",
       "      <td>10.605</td>\n",
       "      <td>3.1547</td>\n",
       "      <td>82.722</td>\n",
       "    </tr>\n",
       "    <tr>\n",
       "      <th>1</th>\n",
       "      <td>6.7850</td>\n",
       "      <td>1008.4</td>\n",
       "      <td>97.118</td>\n",
       "      <td>3.4998</td>\n",
       "      <td>19.728</td>\n",
       "      <td>1059.3</td>\n",
       "      <td>550.00</td>\n",
       "      <td>114.72</td>\n",
       "      <td>10.598</td>\n",
       "      <td>3.2363</td>\n",
       "      <td>82.776</td>\n",
       "    </tr>\n",
       "    <tr>\n",
       "      <th>2</th>\n",
       "      <td>6.8977</td>\n",
       "      <td>1008.8</td>\n",
       "      <td>95.939</td>\n",
       "      <td>3.4824</td>\n",
       "      <td>19.779</td>\n",
       "      <td>1059.4</td>\n",
       "      <td>549.87</td>\n",
       "      <td>114.71</td>\n",
       "      <td>10.601</td>\n",
       "      <td>3.2012</td>\n",
       "      <td>82.468</td>\n",
       "    </tr>\n",
       "    <tr>\n",
       "      <th>3</th>\n",
       "      <td>7.0569</td>\n",
       "      <td>1009.2</td>\n",
       "      <td>95.249</td>\n",
       "      <td>3.4805</td>\n",
       "      <td>19.792</td>\n",
       "      <td>1059.6</td>\n",
       "      <td>549.99</td>\n",
       "      <td>114.72</td>\n",
       "      <td>10.606</td>\n",
       "      <td>3.1923</td>\n",
       "      <td>82.670</td>\n",
       "    </tr>\n",
       "    <tr>\n",
       "      <th>4</th>\n",
       "      <td>7.3978</td>\n",
       "      <td>1009.7</td>\n",
       "      <td>95.150</td>\n",
       "      <td>3.4976</td>\n",
       "      <td>19.765</td>\n",
       "      <td>1059.7</td>\n",
       "      <td>549.98</td>\n",
       "      <td>114.72</td>\n",
       "      <td>10.612</td>\n",
       "      <td>3.2484</td>\n",
       "      <td>82.311</td>\n",
       "    </tr>\n",
       "    <tr>\n",
       "      <th>...</th>\n",
       "      <td>...</td>\n",
       "      <td>...</td>\n",
       "      <td>...</td>\n",
       "      <td>...</td>\n",
       "      <td>...</td>\n",
       "      <td>...</td>\n",
       "      <td>...</td>\n",
       "      <td>...</td>\n",
       "      <td>...</td>\n",
       "      <td>...</td>\n",
       "      <td>...</td>\n",
       "    </tr>\n",
       "    <tr>\n",
       "      <th>15034</th>\n",
       "      <td>9.0301</td>\n",
       "      <td>1005.6</td>\n",
       "      <td>98.460</td>\n",
       "      <td>3.5421</td>\n",
       "      <td>19.164</td>\n",
       "      <td>1049.7</td>\n",
       "      <td>546.21</td>\n",
       "      <td>111.61</td>\n",
       "      <td>10.400</td>\n",
       "      <td>4.5186</td>\n",
       "      <td>79.559</td>\n",
       "    </tr>\n",
       "    <tr>\n",
       "      <th>15035</th>\n",
       "      <td>7.8879</td>\n",
       "      <td>1005.9</td>\n",
       "      <td>99.093</td>\n",
       "      <td>3.5059</td>\n",
       "      <td>19.414</td>\n",
       "      <td>1046.3</td>\n",
       "      <td>543.22</td>\n",
       "      <td>111.78</td>\n",
       "      <td>10.433</td>\n",
       "      <td>4.8470</td>\n",
       "      <td>79.917</td>\n",
       "    </tr>\n",
       "    <tr>\n",
       "      <th>15036</th>\n",
       "      <td>7.2647</td>\n",
       "      <td>1006.3</td>\n",
       "      <td>99.496</td>\n",
       "      <td>3.4770</td>\n",
       "      <td>19.530</td>\n",
       "      <td>1037.7</td>\n",
       "      <td>537.32</td>\n",
       "      <td>110.19</td>\n",
       "      <td>10.483</td>\n",
       "      <td>7.9632</td>\n",
       "      <td>90.912</td>\n",
       "    </tr>\n",
       "    <tr>\n",
       "      <th>15037</th>\n",
       "      <td>7.0060</td>\n",
       "      <td>1006.8</td>\n",
       "      <td>99.008</td>\n",
       "      <td>3.4486</td>\n",
       "      <td>19.377</td>\n",
       "      <td>1043.2</td>\n",
       "      <td>541.24</td>\n",
       "      <td>110.74</td>\n",
       "      <td>10.533</td>\n",
       "      <td>6.2494</td>\n",
       "      <td>93.227</td>\n",
       "    </tr>\n",
       "    <tr>\n",
       "      <th>15038</th>\n",
       "      <td>6.9279</td>\n",
       "      <td>1007.2</td>\n",
       "      <td>97.533</td>\n",
       "      <td>3.4275</td>\n",
       "      <td>19.306</td>\n",
       "      <td>1049.9</td>\n",
       "      <td>545.85</td>\n",
       "      <td>111.58</td>\n",
       "      <td>10.583</td>\n",
       "      <td>4.9816</td>\n",
       "      <td>92.498</td>\n",
       "    </tr>\n",
       "  </tbody>\n",
       "</table>\n",
       "<p>15039 rows × 11 columns</p>\n",
       "</div>"
      ],
      "text/plain": [
       "           AT      AP      AH    AFDP    GTEP     TIT     TAT     TEY     CDP  \\\n",
       "0      6.8594  1007.9  96.799  3.5000  19.663  1059.2  550.00  114.70  10.605   \n",
       "1      6.7850  1008.4  97.118  3.4998  19.728  1059.3  550.00  114.72  10.598   \n",
       "2      6.8977  1008.8  95.939  3.4824  19.779  1059.4  549.87  114.71  10.601   \n",
       "3      7.0569  1009.2  95.249  3.4805  19.792  1059.6  549.99  114.72  10.606   \n",
       "4      7.3978  1009.7  95.150  3.4976  19.765  1059.7  549.98  114.72  10.612   \n",
       "...       ...     ...     ...     ...     ...     ...     ...     ...     ...   \n",
       "15034  9.0301  1005.6  98.460  3.5421  19.164  1049.7  546.21  111.61  10.400   \n",
       "15035  7.8879  1005.9  99.093  3.5059  19.414  1046.3  543.22  111.78  10.433   \n",
       "15036  7.2647  1006.3  99.496  3.4770  19.530  1037.7  537.32  110.19  10.483   \n",
       "15037  7.0060  1006.8  99.008  3.4486  19.377  1043.2  541.24  110.74  10.533   \n",
       "15038  6.9279  1007.2  97.533  3.4275  19.306  1049.9  545.85  111.58  10.583   \n",
       "\n",
       "           CO     NOX  \n",
       "0      3.1547  82.722  \n",
       "1      3.2363  82.776  \n",
       "2      3.2012  82.468  \n",
       "3      3.1923  82.670  \n",
       "4      3.2484  82.311  \n",
       "...       ...     ...  \n",
       "15034  4.5186  79.559  \n",
       "15035  4.8470  79.917  \n",
       "15036  7.9632  90.912  \n",
       "15037  6.2494  93.227  \n",
       "15038  4.9816  92.498  \n",
       "\n",
       "[15039 rows x 11 columns]"
      ]
     },
     "execution_count": 4,
     "metadata": {},
     "output_type": "execute_result"
    }
   ],
   "source": [
    "df = pd.read_csv('C:/Users/Dell/Downloads/gas_turbines.csv')\n",
    "df"
   ]
  },
  {
   "cell_type": "code",
   "execution_count": 8,
   "id": "6fc70ee8",
   "metadata": {},
   "outputs": [
    {
     "name": "stdout",
     "output_type": "stream",
     "text": [
      "<class 'pandas.core.frame.DataFrame'>\n",
      "RangeIndex: 15039 entries, 0 to 15038\n",
      "Data columns (total 11 columns):\n",
      " #   Column  Non-Null Count  Dtype  \n",
      "---  ------  --------------  -----  \n",
      " 0   AT      15039 non-null  float64\n",
      " 1   AP      15039 non-null  float64\n",
      " 2   AH      15039 non-null  float64\n",
      " 3   AFDP    15039 non-null  float64\n",
      " 4   GTEP    15039 non-null  float64\n",
      " 5   TIT     15039 non-null  float64\n",
      " 6   TAT     15039 non-null  float64\n",
      " 7   TEY     15039 non-null  float64\n",
      " 8   CDP     15039 non-null  float64\n",
      " 9   CO      15039 non-null  float64\n",
      " 10  NOX     15039 non-null  float64\n",
      "dtypes: float64(11)\n",
      "memory usage: 1.3 MB\n"
     ]
    }
   ],
   "source": [
    "df.info()"
   ]
  },
  {
   "cell_type": "code",
   "execution_count": 12,
   "id": "cf364a20",
   "metadata": {},
   "outputs": [
    {
     "data": {
      "text/html": [
       "<div>\n",
       "<style scoped>\n",
       "    .dataframe tbody tr th:only-of-type {\n",
       "        vertical-align: middle;\n",
       "    }\n",
       "\n",
       "    .dataframe tbody tr th {\n",
       "        vertical-align: top;\n",
       "    }\n",
       "\n",
       "    .dataframe thead th {\n",
       "        text-align: right;\n",
       "    }\n",
       "</style>\n",
       "<table border=\"1\" class=\"dataframe\">\n",
       "  <thead>\n",
       "    <tr style=\"text-align: right;\">\n",
       "      <th></th>\n",
       "      <th>count</th>\n",
       "      <th>mean</th>\n",
       "      <th>std</th>\n",
       "      <th>min</th>\n",
       "      <th>25%</th>\n",
       "      <th>50%</th>\n",
       "      <th>75%</th>\n",
       "      <th>max</th>\n",
       "    </tr>\n",
       "  </thead>\n",
       "  <tbody>\n",
       "    <tr>\n",
       "      <th>AT</th>\n",
       "      <td>15039.0</td>\n",
       "      <td>17.764381</td>\n",
       "      <td>7.574323</td>\n",
       "      <td>0.522300</td>\n",
       "      <td>11.408000</td>\n",
       "      <td>18.1860</td>\n",
       "      <td>23.8625</td>\n",
       "      <td>34.9290</td>\n",
       "    </tr>\n",
       "    <tr>\n",
       "      <th>AP</th>\n",
       "      <td>15039.0</td>\n",
       "      <td>1013.199240</td>\n",
       "      <td>6.410760</td>\n",
       "      <td>985.850000</td>\n",
       "      <td>1008.900000</td>\n",
       "      <td>1012.8000</td>\n",
       "      <td>1016.9000</td>\n",
       "      <td>1034.2000</td>\n",
       "    </tr>\n",
       "    <tr>\n",
       "      <th>AH</th>\n",
       "      <td>15039.0</td>\n",
       "      <td>79.124174</td>\n",
       "      <td>13.793439</td>\n",
       "      <td>30.344000</td>\n",
       "      <td>69.750000</td>\n",
       "      <td>82.2660</td>\n",
       "      <td>90.0435</td>\n",
       "      <td>100.2000</td>\n",
       "    </tr>\n",
       "    <tr>\n",
       "      <th>AFDP</th>\n",
       "      <td>15039.0</td>\n",
       "      <td>4.200294</td>\n",
       "      <td>0.760197</td>\n",
       "      <td>2.087400</td>\n",
       "      <td>3.723900</td>\n",
       "      <td>4.1862</td>\n",
       "      <td>4.5509</td>\n",
       "      <td>7.6106</td>\n",
       "    </tr>\n",
       "    <tr>\n",
       "      <th>GTEP</th>\n",
       "      <td>15039.0</td>\n",
       "      <td>25.419061</td>\n",
       "      <td>4.173916</td>\n",
       "      <td>17.878000</td>\n",
       "      <td>23.294000</td>\n",
       "      <td>25.0820</td>\n",
       "      <td>27.1840</td>\n",
       "      <td>37.4020</td>\n",
       "    </tr>\n",
       "    <tr>\n",
       "      <th>TIT</th>\n",
       "      <td>15039.0</td>\n",
       "      <td>1083.798770</td>\n",
       "      <td>16.527806</td>\n",
       "      <td>1000.800000</td>\n",
       "      <td>1079.600000</td>\n",
       "      <td>1088.7000</td>\n",
       "      <td>1096.0000</td>\n",
       "      <td>1100.8000</td>\n",
       "    </tr>\n",
       "    <tr>\n",
       "      <th>TAT</th>\n",
       "      <td>15039.0</td>\n",
       "      <td>545.396183</td>\n",
       "      <td>7.866803</td>\n",
       "      <td>512.450000</td>\n",
       "      <td>542.170000</td>\n",
       "      <td>549.8900</td>\n",
       "      <td>550.0600</td>\n",
       "      <td>550.6100</td>\n",
       "    </tr>\n",
       "    <tr>\n",
       "      <th>TEY</th>\n",
       "      <td>15039.0</td>\n",
       "      <td>134.188464</td>\n",
       "      <td>15.829717</td>\n",
       "      <td>100.170000</td>\n",
       "      <td>127.985000</td>\n",
       "      <td>133.7800</td>\n",
       "      <td>140.8950</td>\n",
       "      <td>174.6100</td>\n",
       "    </tr>\n",
       "    <tr>\n",
       "      <th>CDP</th>\n",
       "      <td>15039.0</td>\n",
       "      <td>12.102353</td>\n",
       "      <td>1.103196</td>\n",
       "      <td>9.904400</td>\n",
       "      <td>11.622000</td>\n",
       "      <td>12.0250</td>\n",
       "      <td>12.5780</td>\n",
       "      <td>15.0810</td>\n",
       "    </tr>\n",
       "    <tr>\n",
       "      <th>CO</th>\n",
       "      <td>15039.0</td>\n",
       "      <td>1.972499</td>\n",
       "      <td>2.222206</td>\n",
       "      <td>0.000388</td>\n",
       "      <td>0.858055</td>\n",
       "      <td>1.3902</td>\n",
       "      <td>2.1604</td>\n",
       "      <td>44.1030</td>\n",
       "    </tr>\n",
       "    <tr>\n",
       "      <th>NOX</th>\n",
       "      <td>15039.0</td>\n",
       "      <td>68.190934</td>\n",
       "      <td>10.470586</td>\n",
       "      <td>27.765000</td>\n",
       "      <td>61.303500</td>\n",
       "      <td>66.6010</td>\n",
       "      <td>73.9355</td>\n",
       "      <td>119.8900</td>\n",
       "    </tr>\n",
       "  </tbody>\n",
       "</table>\n",
       "</div>"
      ],
      "text/plain": [
       "        count         mean        std          min          25%        50%  \\\n",
       "AT    15039.0    17.764381   7.574323     0.522300    11.408000    18.1860   \n",
       "AP    15039.0  1013.199240   6.410760   985.850000  1008.900000  1012.8000   \n",
       "AH    15039.0    79.124174  13.793439    30.344000    69.750000    82.2660   \n",
       "AFDP  15039.0     4.200294   0.760197     2.087400     3.723900     4.1862   \n",
       "GTEP  15039.0    25.419061   4.173916    17.878000    23.294000    25.0820   \n",
       "TIT   15039.0  1083.798770  16.527806  1000.800000  1079.600000  1088.7000   \n",
       "TAT   15039.0   545.396183   7.866803   512.450000   542.170000   549.8900   \n",
       "TEY   15039.0   134.188464  15.829717   100.170000   127.985000   133.7800   \n",
       "CDP   15039.0    12.102353   1.103196     9.904400    11.622000    12.0250   \n",
       "CO    15039.0     1.972499   2.222206     0.000388     0.858055     1.3902   \n",
       "NOX   15039.0    68.190934  10.470586    27.765000    61.303500    66.6010   \n",
       "\n",
       "            75%        max  \n",
       "AT      23.8625    34.9290  \n",
       "AP    1016.9000  1034.2000  \n",
       "AH      90.0435   100.2000  \n",
       "AFDP     4.5509     7.6106  \n",
       "GTEP    27.1840    37.4020  \n",
       "TIT   1096.0000  1100.8000  \n",
       "TAT    550.0600   550.6100  \n",
       "TEY    140.8950   174.6100  \n",
       "CDP     12.5780    15.0810  \n",
       "CO       2.1604    44.1030  \n",
       "NOX     73.9355   119.8900  "
      ]
     },
     "execution_count": 12,
     "metadata": {},
     "output_type": "execute_result"
    }
   ],
   "source": [
    "df.describe().T"
   ]
  },
  {
   "cell_type": "code",
   "execution_count": 15,
   "id": "2dc9e8c6",
   "metadata": {},
   "outputs": [
    {
     "data": {
      "text/plain": [
       "TEY     1.000000\n",
       "CDP     0.988473\n",
       "GTEP    0.977042\n",
       "TIT     0.891587\n",
       "AFDP    0.717995\n",
       "AP      0.146939\n",
       "NOX    -0.102631\n",
       "AH     -0.110272\n",
       "AT     -0.207495\n",
       "CO     -0.541751\n",
       "TAT    -0.720356\n",
       "Name: TEY, dtype: float64"
      ]
     },
     "execution_count": 15,
     "metadata": {},
     "output_type": "execute_result"
    }
   ],
   "source": [
    "df.corr()[\"TEY\"].sort_values(ascending=False)"
   ]
  },
  {
   "cell_type": "code",
   "execution_count": 23,
   "id": "f59f5f85",
   "metadata": {},
   "outputs": [
    {
     "data": {
      "text/plain": [
       "Index(['AT', 'AP', 'AH', 'AFDP', 'GTEP', 'TIT', 'TAT', 'TEY', 'CDP', 'CO',\n",
       "       'NOX'],\n",
       "      dtype='object')"
      ]
     },
     "execution_count": 23,
     "metadata": {},
     "output_type": "execute_result"
    }
   ],
   "source": [
    "numerical_features = df.describe(include=[\"int64\",\"float64\"]).columns\n",
    "numerical_features"
   ]
  },
  {
   "cell_type": "code",
   "execution_count": 22,
   "id": "be98e9c9",
   "metadata": {},
   "outputs": [
    {
     "data": {
      "image/png": "[encoded data removed]",
      "text/plain": [
       "<Figure size 432x288 with 1 Axes>"
      ]
     },
     "metadata": {},
     "output_type": "display_data"
    },
    {
     "data": {
      "image/png": "[encoded data removed]",
      "text/plain": [
       "<Figure size 432x288 with 1 Axes>"
      ]
     },
     "metadata": {},
     "output_type": "display_data"
    },
    {
     "data": {
      "image/png": "[encoded data removed]",
      "text/plain": [
       "<Figure size 432x288 with 1 Axes>"
      ]
     },
     "metadata": {},
     "output_type": "display_data"
    },
    {
     "data": {
      "image/png": "[encoded data removed]",
      "text/plain": [
       "<Figure size 432x288 with 1 Axes>"
      ]
     },
     "metadata": {},
     "output_type": "display_data"
    },
    {
     "data": {
      "image/png": "[encoded data removed]",
      "text/plain": [
       "<Figure size 432x288 with 1 Axes>"
      ]
     },
     "metadata": {},
     "output_type": "display_data"
    },
    {
     "data": {
      "image/png": "[encoded data removed]",
      "text/plain": [
       "<Figure size 432x288 with 1 Axes>"
      ]
     },
     "metadata": {},
     "output_type": "display_data"
    },
    {
     "data": {
      "image/png": "[encoded data removed]",
      "text/plain": [
       "<Figure size 432x288 with 1 Axes>"
      ]
     },
     "metadata": {},
     "output_type": "display_data"
    },
    {
     "data": {
      "image/png": "[encoded data removed]",
      "text/plain": [
       "<Figure size 432x288 with 1 Axes>"
      ]
     },
     "metadata": {},
     "output_type": "display_data"
    },
    {
     "data": {
      "image/png": "[encoded data removed]",
      "text/plain": [
       "<Figure size 432x288 with 1 Axes>"
      ]
     },
     "metadata": {},
     "output_type": "display_data"
    },
    {
     "data": {
      "image/png": "[encoded data removed]",
      "text/plain": [
       "<Figure size 432x288 with 1 Axes>"
      ]
     },
     "metadata": {},
     "output_type": "display_data"
    },
    {
     "data": {
      "image/png": "[encoded data removed]",
      "text/plain": [
       "<Figure size 432x288 with 1 Axes>"
      ]
     },
     "metadata": {},
     "output_type": "display_data"
    }
   ],
   "source": [
    "numerical_features=[feature for feature in df.columns if df[feature].dtypes != 'O']\n",
    "for feat in numerical_features:\n",
    "    skew = df[feat].skew()\n",
    "    sns.distplot(df[feat], kde= False, label='Skew = %.3f' %(skew), bins=30)\n",
    "    plt.legend(loc='best')\n",
    "    plt.show()"
   ]
  },
  {
   "cell_type": "code",
   "execution_count": 30,
   "id": "685f71cf",
   "metadata": {},
   "outputs": [
    {
     "data": {
      "image/png": "[encoded data removed]",
      "text/plain": [
       "<Figure size 1008x1152 with 11 Axes>"
      ]
     },
     "metadata": {},
     "output_type": "display_data"
    }
   ],
   "source": [
    "ot=df.copy() \n",
    "fig, axes=plt.subplots(11,1,figsize=(14,16),sharex=False,sharey=False)\n",
    "sns.boxplot(x='AT',data=ot,palette='crest',ax=axes[0])\n",
    "sns.boxplot(x='AP',data=ot,palette='crest',ax=axes[1])\n",
    "sns.boxplot(x='AH',data=ot,palette='crest',ax=axes[2])\n",
    "sns.boxplot(x='AFDP',data=ot,palette='crest',ax=axes[3])\n",
    "sns.boxplot(x='GTEP',data=ot,palette='crest',ax=axes[4])\n",
    "sns.boxplot(x='TIT',data=ot,palette='crest',ax=axes[5])\n",
    "sns.boxplot(x='TAT',data=ot,palette='crest',ax=axes[6])\n",
    "sns.boxplot(x='TEY',data=ot,palette='crest',ax=axes[7])\n",
    "sns.boxplot(x='CDP',data=ot,palette='crest',ax=axes[8])\n",
    "sns.boxplot(x='CO',data=ot,palette='crest',ax=axes[9])\n",
    "sns.boxplot(x='NOX',data=ot,palette='crest',ax=axes[10])\n",
    "plt.tight_layout(pad=2.0)"
   ]
  },
  {
   "cell_type": "code",
   "execution_count": 19,
   "id": "93c67c8a",
   "metadata": {},
   "outputs": [
    {
     "data": {
      "text/plain": [
       "<AxesSubplot:>"
      ]
     },
     "execution_count": 19,
     "metadata": {},
     "output_type": "execute_result"
    },
    {
     "data": {
      "image/png": "[encoded data removed]",
      "text/plain": [
       "<Figure size 1152x864 with 2 Axes>"
      ]
     },
     "metadata": {},
     "output_type": "display_data"
    }
   ],
   "source": [
    "plt.figure(figsize=(16,12))\n",
    "mask = np.zeros_like(df.corr(), dtype=np.bool)\n",
    "mask[np.triu_indices_from(mask)] = True\n",
    "sns.heatmap(data=df.corr(), cmap=\"jet\", annot=True,linewidths=1, linecolor='white',mask=mask)"
   ]
  },
  {
   "cell_type": "code",
   "execution_count": 46,
   "id": "8bb432d5",
   "metadata": {},
   "outputs": [],
   "source": [
    "x = df.drop('TEY', axis=1)\n",
    "y = df[[\"TEY\"]]"
   ]
  },
  {
   "cell_type": "code",
   "execution_count": 48,
   "id": "291cb970",
   "metadata": {},
   "outputs": [],
   "source": [
    "# feature extraction\n",
    "test = SelectKBest(score_func=mutual_info_regression, k='all')\n",
    "fit = test.fit(x, y)"
   ]
  },
  {
   "cell_type": "code",
   "execution_count": 50,
   "id": "9f3fdbb7",
   "metadata": {},
   "outputs": [],
   "source": [
    "# summarize scores\n",
    "scores = fit.scores_\n",
    "\n",
    "features = fit.transform(x)"
   ]
  },
  {
   "cell_type": "code",
   "execution_count": 51,
   "id": "db454439",
   "metadata": {},
   "outputs": [
    {
     "data": {
      "text/html": [
       "<div>\n",
       "<style scoped>\n",
       "    .dataframe tbody tr th:only-of-type {\n",
       "        vertical-align: middle;\n",
       "    }\n",
       "\n",
       "    .dataframe tbody tr th {\n",
       "        vertical-align: top;\n",
       "    }\n",
       "\n",
       "    .dataframe thead th {\n",
       "        text-align: right;\n",
       "    }\n",
       "</style>\n",
       "<table border=\"1\" class=\"dataframe\">\n",
       "  <thead>\n",
       "    <tr style=\"text-align: right;\">\n",
       "      <th></th>\n",
       "      <th>Score</th>\n",
       "      <th>Feature</th>\n",
       "    </tr>\n",
       "  </thead>\n",
       "  <tbody>\n",
       "    <tr>\n",
       "      <th>7</th>\n",
       "      <td>1.712704</td>\n",
       "      <td>CDP</td>\n",
       "    </tr>\n",
       "    <tr>\n",
       "      <th>4</th>\n",
       "      <td>1.599840</td>\n",
       "      <td>GTEP</td>\n",
       "    </tr>\n",
       "    <tr>\n",
       "      <th>5</th>\n",
       "      <td>1.325077</td>\n",
       "      <td>TIT</td>\n",
       "    </tr>\n",
       "    <tr>\n",
       "      <th>6</th>\n",
       "      <td>0.891890</td>\n",
       "      <td>TAT</td>\n",
       "    </tr>\n",
       "    <tr>\n",
       "      <th>3</th>\n",
       "      <td>0.660760</td>\n",
       "      <td>AFDP</td>\n",
       "    </tr>\n",
       "    <tr>\n",
       "      <th>8</th>\n",
       "      <td>0.512258</td>\n",
       "      <td>CO</td>\n",
       "    </tr>\n",
       "    <tr>\n",
       "      <th>0</th>\n",
       "      <td>0.412339</td>\n",
       "      <td>AT</td>\n",
       "    </tr>\n",
       "    <tr>\n",
       "      <th>9</th>\n",
       "      <td>0.301021</td>\n",
       "      <td>NOX</td>\n",
       "    </tr>\n",
       "    <tr>\n",
       "      <th>1</th>\n",
       "      <td>0.140308</td>\n",
       "      <td>AP</td>\n",
       "    </tr>\n",
       "    <tr>\n",
       "      <th>2</th>\n",
       "      <td>0.097477</td>\n",
       "      <td>AH</td>\n",
       "    </tr>\n",
       "  </tbody>\n",
       "</table>\n",
       "</div>"
      ],
      "text/plain": [
       "      Score Feature\n",
       "7  1.712704     CDP\n",
       "4  1.599840    GTEP\n",
       "5  1.325077     TIT\n",
       "6  0.891890     TAT\n",
       "3  0.660760    AFDP\n",
       "8  0.512258      CO\n",
       "0  0.412339      AT\n",
       "9  0.301021     NOX\n",
       "1  0.140308      AP\n",
       "2  0.097477      AH"
      ]
     },
     "execution_count": 51,
     "metadata": {},
     "output_type": "execute_result"
    }
   ],
   "source": [
    "score_df = pd.DataFrame(list(zip(scores, x.columns)),\n",
    "               columns =['Score', 'Feature'])\n",
    "score_df.sort_values(by=\"Score\", ascending=False, inplace=True)\n",
    "score_df"
   ]
  },
  {
   "cell_type": "code",
   "execution_count": 54,
   "id": "8b3649ad",
   "metadata": {},
   "outputs": [
    {
     "data": {
      "image/png": "[encoded data removed]",
      "text/plain": [
       "<Figure size 1440x432 with 1 Axes>"
      ]
     },
     "metadata": {},
     "output_type": "display_data"
    }
   ],
   "source": [
    "fig, axes = plt.subplots(figsize=(20, 6))\n",
    "plt.bar([i for i in range(len(scores))],scores)\n",
    "axes.set_xticks([0,1,2,3,4,5,6,7,8,9])\n",
    "axes.set_xticklabels(x.columns.values)\n",
    "plt.xticks(rotation = 90, size = 15)\n",
    "plt.show()"
   ]
  },
  {
   "cell_type": "code",
   "execution_count": 68,
   "id": "a6cb10b1",
   "metadata": {},
   "outputs": [
    {
     "data": {
      "text/html": [
       "<div>\n",
       "<style scoped>\n",
       "    .dataframe tbody tr th:only-of-type {\n",
       "        vertical-align: middle;\n",
       "    }\n",
       "\n",
       "    .dataframe tbody tr th {\n",
       "        vertical-align: top;\n",
       "    }\n",
       "\n",
       "    .dataframe thead th {\n",
       "        text-align: right;\n",
       "    }\n",
       "</style>\n",
       "<table border=\"1\" class=\"dataframe\">\n",
       "  <thead>\n",
       "    <tr style=\"text-align: right;\">\n",
       "      <th></th>\n",
       "      <th>Score</th>\n",
       "      <th>Feature</th>\n",
       "    </tr>\n",
       "  </thead>\n",
       "  <tbody>\n",
       "    <tr>\n",
       "      <th>7</th>\n",
       "      <td>1.712704</td>\n",
       "      <td>CDP</td>\n",
       "    </tr>\n",
       "    <tr>\n",
       "      <th>4</th>\n",
       "      <td>1.599840</td>\n",
       "      <td>GTEP</td>\n",
       "    </tr>\n",
       "    <tr>\n",
       "      <th>5</th>\n",
       "      <td>1.325077</td>\n",
       "      <td>TIT</td>\n",
       "    </tr>\n",
       "    <tr>\n",
       "      <th>6</th>\n",
       "      <td>0.891890</td>\n",
       "      <td>TAT</td>\n",
       "    </tr>\n",
       "    <tr>\n",
       "      <th>3</th>\n",
       "      <td>0.660760</td>\n",
       "      <td>AFDP</td>\n",
       "    </tr>\n",
       "    <tr>\n",
       "      <th>8</th>\n",
       "      <td>0.512258</td>\n",
       "      <td>CO</td>\n",
       "    </tr>\n",
       "    <tr>\n",
       "      <th>0</th>\n",
       "      <td>0.412339</td>\n",
       "      <td>AT</td>\n",
       "    </tr>\n",
       "    <tr>\n",
       "      <th>9</th>\n",
       "      <td>0.301021</td>\n",
       "      <td>NOX</td>\n",
       "    </tr>\n",
       "    <tr>\n",
       "      <th>1</th>\n",
       "      <td>0.140308</td>\n",
       "      <td>AP</td>\n",
       "    </tr>\n",
       "    <tr>\n",
       "      <th>2</th>\n",
       "      <td>0.097477</td>\n",
       "      <td>AH</td>\n",
       "    </tr>\n",
       "  </tbody>\n",
       "</table>\n",
       "</div>"
      ],
      "text/plain": [
       "      Score Feature\n",
       "7  1.712704     CDP\n",
       "4  1.599840    GTEP\n",
       "5  1.325077     TIT\n",
       "6  0.891890     TAT\n",
       "3  0.660760    AFDP\n",
       "8  0.512258      CO\n",
       "0  0.412339      AT\n",
       "9  0.301021     NOX\n",
       "1  0.140308      AP\n",
       "2  0.097477      AH"
      ]
     },
     "execution_count": 68,
     "metadata": {},
     "output_type": "execute_result"
    }
   ],
   "source": [
    "score_df.sort_values('Score',ascending=False)"
   ]
  },
  {
   "cell_type": "code",
   "execution_count": 71,
   "id": "4b09fe3a",
   "metadata": {},
   "outputs": [
    {
     "data": {
      "text/html": [
       "<div>\n",
       "<style scoped>\n",
       "    .dataframe tbody tr th:only-of-type {\n",
       "        vertical-align: middle;\n",
       "    }\n",
       "\n",
       "    .dataframe tbody tr th {\n",
       "        vertical-align: top;\n",
       "    }\n",
       "\n",
       "    .dataframe thead th {\n",
       "        text-align: right;\n",
       "    }\n",
       "</style>\n",
       "<table border=\"1\" class=\"dataframe\">\n",
       "  <thead>\n",
       "    <tr style=\"text-align: right;\">\n",
       "      <th></th>\n",
       "      <th>CDP</th>\n",
       "      <th>GTEP</th>\n",
       "      <th>TIT</th>\n",
       "      <th>TAT</th>\n",
       "      <th>AFDP</th>\n",
       "      <th>CO</th>\n",
       "      <th>AT</th>\n",
       "      <th>TEY</th>\n",
       "    </tr>\n",
       "  </thead>\n",
       "  <tbody>\n",
       "    <tr>\n",
       "      <th>0</th>\n",
       "      <td>10.605</td>\n",
       "      <td>19.663</td>\n",
       "      <td>1059.2</td>\n",
       "      <td>550.00</td>\n",
       "      <td>3.5000</td>\n",
       "      <td>3.1547</td>\n",
       "      <td>6.8594</td>\n",
       "      <td>114.70</td>\n",
       "    </tr>\n",
       "    <tr>\n",
       "      <th>1</th>\n",
       "      <td>10.598</td>\n",
       "      <td>19.728</td>\n",
       "      <td>1059.3</td>\n",
       "      <td>550.00</td>\n",
       "      <td>3.4998</td>\n",
       "      <td>3.2363</td>\n",
       "      <td>6.7850</td>\n",
       "      <td>114.72</td>\n",
       "    </tr>\n",
       "    <tr>\n",
       "      <th>2</th>\n",
       "      <td>10.601</td>\n",
       "      <td>19.779</td>\n",
       "      <td>1059.4</td>\n",
       "      <td>549.87</td>\n",
       "      <td>3.4824</td>\n",
       "      <td>3.2012</td>\n",
       "      <td>6.8977</td>\n",
       "      <td>114.71</td>\n",
       "    </tr>\n",
       "    <tr>\n",
       "      <th>3</th>\n",
       "      <td>10.606</td>\n",
       "      <td>19.792</td>\n",
       "      <td>1059.6</td>\n",
       "      <td>549.99</td>\n",
       "      <td>3.4805</td>\n",
       "      <td>3.1923</td>\n",
       "      <td>7.0569</td>\n",
       "      <td>114.72</td>\n",
       "    </tr>\n",
       "    <tr>\n",
       "      <th>4</th>\n",
       "      <td>10.612</td>\n",
       "      <td>19.765</td>\n",
       "      <td>1059.7</td>\n",
       "      <td>549.98</td>\n",
       "      <td>3.4976</td>\n",
       "      <td>3.2484</td>\n",
       "      <td>7.3978</td>\n",
       "      <td>114.72</td>\n",
       "    </tr>\n",
       "  </tbody>\n",
       "</table>\n",
       "</div>"
      ],
      "text/plain": [
       "      CDP    GTEP     TIT     TAT    AFDP      CO      AT     TEY\n",
       "0  10.605  19.663  1059.2  550.00  3.5000  3.1547  6.8594  114.70\n",
       "1  10.598  19.728  1059.3  550.00  3.4998  3.2363  6.7850  114.72\n",
       "2  10.601  19.779  1059.4  549.87  3.4824  3.2012  6.8977  114.71\n",
       "3  10.606  19.792  1059.6  549.99  3.4805  3.1923  7.0569  114.72\n",
       "4  10.612  19.765  1059.7  549.98  3.4976  3.2484  7.3978  114.72"
      ]
     },
     "execution_count": 71,
     "metadata": {},
     "output_type": "execute_result"
    }
   ],
   "source": [
    "model_data = df[['CDP', 'GTEP','TIT', 'TAT', 'AFDP', 'CO', 'AT',\"TEY\"]]\n",
    "model_data.head()"
   ]
  },
  {
   "cell_type": "code",
   "execution_count": 131,
   "id": "80bf1912",
   "metadata": {},
   "outputs": [
    {
     "name": "stdout",
     "output_type": "stream",
     "text": [
      "Continuous Feature Count 8\n"
     ]
    }
   ],
   "source": [
    "continuous_feature=[feature for feature in model_data.columns if model_data[feature].dtype!='O']\n",
    "print('Continuous Feature Count {}'.format(len(continuous_feature)))"
   ]
  },
  {
   "cell_type": "code",
   "execution_count": 132,
   "id": "f3767b42",
   "metadata": {},
   "outputs": [],
   "source": [
    "df_standard_scaled = model_data.copy()\n",
    "features = df_standard_scaled[continuous_feature]"
   ]
  },
  {
   "cell_type": "code",
   "execution_count": 133,
   "id": "c787aa8b",
   "metadata": {},
   "outputs": [
    {
     "data": {
      "text/html": [
       "<div>\n",
       "<style scoped>\n",
       "    .dataframe tbody tr th:only-of-type {\n",
       "        vertical-align: middle;\n",
       "    }\n",
       "\n",
       "    .dataframe tbody tr th {\n",
       "        vertical-align: top;\n",
       "    }\n",
       "\n",
       "    .dataframe thead th {\n",
       "        text-align: right;\n",
       "    }\n",
       "</style>\n",
       "<table border=\"1\" class=\"dataframe\">\n",
       "  <thead>\n",
       "    <tr style=\"text-align: right;\">\n",
       "      <th></th>\n",
       "      <th>CDP</th>\n",
       "      <th>GTEP</th>\n",
       "      <th>TIT</th>\n",
       "      <th>TAT</th>\n",
       "      <th>AFDP</th>\n",
       "      <th>CO</th>\n",
       "      <th>AT</th>\n",
       "      <th>TEY</th>\n",
       "    </tr>\n",
       "  </thead>\n",
       "  <tbody>\n",
       "    <tr>\n",
       "      <th>0</th>\n",
       "      <td>-1.357331</td>\n",
       "      <td>-1.379101</td>\n",
       "      <td>-1.488376</td>\n",
       "      <td>0.585240</td>\n",
       "      <td>-0.921232</td>\n",
       "      <td>0.532012</td>\n",
       "      <td>-1.439778</td>\n",
       "      <td>-1.231172</td>\n",
       "    </tr>\n",
       "    <tr>\n",
       "      <th>1</th>\n",
       "      <td>-1.363676</td>\n",
       "      <td>-1.363528</td>\n",
       "      <td>-1.482325</td>\n",
       "      <td>0.585240</td>\n",
       "      <td>-0.921495</td>\n",
       "      <td>0.568733</td>\n",
       "      <td>-1.449601</td>\n",
       "      <td>-1.229909</td>\n",
       "    </tr>\n",
       "    <tr>\n",
       "      <th>2</th>\n",
       "      <td>-1.360957</td>\n",
       "      <td>-1.351309</td>\n",
       "      <td>-1.476275</td>\n",
       "      <td>0.568715</td>\n",
       "      <td>-0.944385</td>\n",
       "      <td>0.552938</td>\n",
       "      <td>-1.434721</td>\n",
       "      <td>-1.230541</td>\n",
       "    </tr>\n",
       "    <tr>\n",
       "      <th>3</th>\n",
       "      <td>-1.356424</td>\n",
       "      <td>-1.348194</td>\n",
       "      <td>-1.464173</td>\n",
       "      <td>0.583969</td>\n",
       "      <td>-0.946884</td>\n",
       "      <td>0.548933</td>\n",
       "      <td>-1.413702</td>\n",
       "      <td>-1.229909</td>\n",
       "    </tr>\n",
       "    <tr>\n",
       "      <th>4</th>\n",
       "      <td>-1.350985</td>\n",
       "      <td>-1.354663</td>\n",
       "      <td>-1.458123</td>\n",
       "      <td>0.582698</td>\n",
       "      <td>-0.924389</td>\n",
       "      <td>0.574179</td>\n",
       "      <td>-1.368693</td>\n",
       "      <td>-1.229909</td>\n",
       "    </tr>\n",
       "  </tbody>\n",
       "</table>\n",
       "</div>"
      ],
      "text/plain": [
       "        CDP      GTEP       TIT       TAT      AFDP        CO        AT  \\\n",
       "0 -1.357331 -1.379101 -1.488376  0.585240 -0.921232  0.532012 -1.439778   \n",
       "1 -1.363676 -1.363528 -1.482325  0.585240 -0.921495  0.568733 -1.449601   \n",
       "2 -1.360957 -1.351309 -1.476275  0.568715 -0.944385  0.552938 -1.434721   \n",
       "3 -1.356424 -1.348194 -1.464173  0.583969 -0.946884  0.548933 -1.413702   \n",
       "4 -1.350985 -1.354663 -1.458123  0.582698 -0.924389  0.574179 -1.368693   \n",
       "\n",
       "        TEY  \n",
       "0 -1.231172  \n",
       "1 -1.229909  \n",
       "2 -1.230541  \n",
       "3 -1.229909  \n",
       "4 -1.229909  "
      ]
     },
     "execution_count": 133,
     "metadata": {},
     "output_type": "execute_result"
    }
   ],
   "source": [
    "from sklearn.preprocessing import StandardScaler\n",
    "scaler = StandardScaler()\n",
    "\n",
    "df_standard_scaled[continuous_feature] = scaler.fit_transform(features.values)\n",
    "df_standard_scaled.head()"
   ]
  },
  {
   "attachments": {},
   "cell_type": "markdown",
   "id": "6b621f0e",
   "metadata": {},
   "source": [
    "#### Now if we check the mean and standard deviation of our scaled data it should have a Mean '0' and Standard deviation '1'"
   ]
  },
  {
   "cell_type": "code",
   "execution_count": 91,
   "id": "b576edd0",
   "metadata": {},
   "outputs": [
    {
     "name": "stdout",
     "output_type": "stream",
     "text": [
      "Mean\n",
      " CDP       0.0\n",
      "GTEP      0.0\n",
      "TIT      -0.0\n",
      "TAT       0.0\n",
      "AFDP      0.0\n",
      "CO        0.0\n",
      "AT       -0.0\n",
      "TEY     134.2\n",
      "dtype: float64 \n",
      "Standard Devaition \n",
      " CDP      1.0\n",
      "GTEP     1.0\n",
      "TIT      1.0\n",
      "TAT      1.0\n",
      "AFDP     1.0\n",
      "CO       1.0\n",
      "AT       1.0\n",
      "TEY     16.0\n",
      "dtype: float64 1\n"
     ]
    }
   ],
   "source": [
    "print('Mean' '\\n',np.round(df_standard_scaled.mean(),1),'\\n' 'Standard Devaition','\\n',np.round(df_standard_scaled.std()),1)"
   ]
  },
  {
   "cell_type": "code",
   "execution_count": 92,
   "id": "8308fce7",
   "metadata": {},
   "outputs": [],
   "source": [
    "x = df_standard_scaled.drop('TEY',axis=1)\n",
    "y = df_standard_scaled[['TEY']]"
   ]
  },
  {
   "cell_type": "code",
   "execution_count": 93,
   "id": "0f611f57",
   "metadata": {},
   "outputs": [],
   "source": [
    "# Splitting data into test data and train data\n",
    "\n",
    "x_train, x_test, y_train, y_test = train_test_split(x, y, test_size=0.3, random_state=3)"
   ]
  },
  {
   "attachments": {},
   "cell_type": "markdown",
   "id": "0dea9114",
   "metadata": {},
   "source": [
    "### Optimal Learning rate ,Number of Layers and Neurons<a class=\"anchor\" id=\"6.1\"></a>"
   ]
  },
  {
   "cell_type": "code",
   "execution_count": 97,
   "id": "f740ea6a",
   "metadata": {},
   "outputs": [],
   "source": [
    "def build_model(hp):\n",
    "    model =Sequential()\n",
    "    for i in range(hp.Int('num_layers', 2, 20)):\n",
    "        model.add(layers.Dense(units=hp.Int('units_' + str(i),\n",
    "                                            min_value=32,\n",
    "                                            max_value=100,\n",
    "                                            step=32),\n",
    "                               activation='relu'))\n",
    "    model.add(layers.Dense(1, activation='linear'))\n",
    "    model.compile(\n",
    "        optimizer=keras.optimizers.Adam(\n",
    "            hp.Choice('learning_rate', [1e-2, 1e-3, 1e-4])),\n",
    "        loss='mean_absolute_error',\n",
    "        metrics=['mean_absolute_error'])\n",
    "    return model"
   ]
  },
  {
   "cell_type": "code",
   "execution_count": 98,
   "id": "0a693d39",
   "metadata": {},
   "outputs": [],
   "source": [
    "tuner = RandomSearch(build_model,objective='val_mean_absolute_error',max_trials=5,  executions_per_trial=3,directory='project',project_name='Gas Turbine')"
   ]
  },
  {
   "cell_type": "code",
   "execution_count": 99,
   "id": "f235f1c8",
   "metadata": {},
   "outputs": [
    {
     "name": "stdout",
     "output_type": "stream",
     "text": [
      "Search space summary\n",
      "Default search space size: 4\n",
      "num_layers (Int)\n",
      "{'default': None, 'conditions': [], 'min_value': 2, 'max_value': 20, 'step': 1, 'sampling': None}\n",
      "units_0 (Int)\n",
      "{'default': None, 'conditions': [], 'min_value': 32, 'max_value': 100, 'step': 32, 'sampling': None}\n",
      "units_1 (Int)\n",
      "{'default': None, 'conditions': [], 'min_value': 32, 'max_value': 100, 'step': 32, 'sampling': None}\n",
      "learning_rate (Choice)\n",
      "{'default': 0.01, 'conditions': [], 'values': [0.01, 0.001, 0.0001], 'ordered': True}\n"
     ]
    }
   ],
   "source": [
    "tuner.search_space_summary()"
   ]
  },
  {
   "cell_type": "code",
   "execution_count": 101,
   "id": "16b6129e",
   "metadata": {},
   "outputs": [
    {
     "name": "stderr",
     "output_type": "stream",
     "text": [
      "Oracle triggered exit\n"
     ]
    },
    {
     "name": "stdout",
     "output_type": "stream",
     "text": [
      "Trial 5 Complete [00h 05m 01s]\n",
      "val_mean_absolute_error: 0.4440057973066966\n",
      "\n",
      "Best val_mean_absolute_error So Far: 0.4288428723812103\n",
      "Total elapsed time: 00h 29m 24s\n"
     ]
    }
   ],
   "source": [
    "tuner.search(x_train, y_train,epochs=100,validation_data=(x_test, y_test))"
   ]
  },
  {
   "attachments": {},
   "cell_type": "markdown",
   "id": "5bae2b2c",
   "metadata": {},
   "source": [
    "### Optimal Batch_size, Number of Epochs<a class=\"anchor\" id=\"6.2\"></a>"
   ]
  },
  {
   "cell_type": "code",
   "execution_count": 115,
   "id": "36c029a7",
   "metadata": {},
   "outputs": [],
   "source": [
    "def create_model():\n",
    "    model1 = Sequential()\n",
    "    model1.add(Dense(32,input_dim=7,activation='relu'))\n",
    "    model1.add(Dense(64,activation='relu'))\n",
    "    model1.add(Dense(96,activation=\"relu\"))\n",
    "    model1.add(Dense(32,activation=\"relu\"))\n",
    "    model1.add(Dense(64,activation=\"relu\"))\n",
    "    model1.add(Dense(32,activation=\"relu\"))\n",
    "    model1.add(Dense(96,activation=\"relu\"))\n",
    "    model1.add(Dense(96,activation=\"relu\"))\n",
    "    model1.add(Dense(32,activation=\"relu\"))\n",
    "    model1.add(Dense(64,activation=\"relu\"))\n",
    "    model1.add(Dense(64,activation=\"relu\"))\n",
    "    model1.add(Dense(units=1,activation=\"linear\"))\n",
    "    \n",
    "    adam=Adam(learning_rate=0.001)\n",
    "    model1.compile(loss='mean_absolute_error',optimizer = adam,metrics=[\"mean_absolute_error\"])\n",
    "    return model1"
   ]
  },
  {
   "cell_type": "code",
   "execution_count": 116,
   "id": "239ec83c",
   "metadata": {},
   "outputs": [],
   "source": [
    "model1 =KerasRegressor(build_fn=create_model,verbose=0)\n",
    "batch_size=[10,20,40,50]\n",
    "epochs=[10,50,100,200]\n",
    "param_grid=dict(batch_size=batch_size,epochs=epochs)\n",
    "grid = GridSearchCV(estimator=model1,param_grid=param_grid,cv=KFold(),verbose=10)"
   ]
  },
  {
   "cell_type": "code",
   "execution_count": null,
   "id": "f56a671d",
   "metadata": {},
   "outputs": [],
   "source": [
    "grid_result = grid.fit(x_test,y_test)"
   ]
  },
  {
   "cell_type": "code",
   "execution_count": 118,
   "id": "135e75b6",
   "metadata": {},
   "outputs": [
    {
     "name": "stdout",
     "output_type": "stream",
     "text": [
      "Best -0.5385425746440887, using {'batch_size': 40, 'epochs': 200}\n",
      "-1.3277084469795226,0.4157314466582501 with {'batch_size': 10, 'epochs': 10}\n",
      "-1.2819799065589905,0.6388210326784041 with {'batch_size': 10, 'epochs': 50}\n",
      "-0.6195487558841706,0.22372498685599693 with {'batch_size': 10, 'epochs': 100}\n",
      "-0.6067143261432648,0.14244373523566725 with {'batch_size': 10, 'epochs': 200}\n",
      "-1.6372950077056885,0.312710777433406 with {'batch_size': 20, 'epochs': 10}\n",
      "-0.797945237159729,0.24094883948455134 with {'batch_size': 20, 'epochs': 50}\n",
      "-0.9796943306922913,0.3860892553758134 with {'batch_size': 20, 'epochs': 100}\n",
      "-0.5884879648685455,0.13458080593764546 with {'batch_size': 20, 'epochs': 200}\n",
      "-2.6895342111587524,1.1914054795904954 with {'batch_size': 40, 'epochs': 10}\n",
      "-1.5166579246520997,0.5587834119397824 with {'batch_size': 40, 'epochs': 50}\n",
      "-0.9263822197914123,0.28557928597207294 with {'batch_size': 40, 'epochs': 100}\n",
      "-0.5385425746440887,0.09872459202891593 with {'batch_size': 40, 'epochs': 200}\n",
      "-2.8348670959472657,0.776276398121674 with {'batch_size': 50, 'epochs': 10}\n",
      "-1.0364789128303529,0.27062329238132626 with {'batch_size': 50, 'epochs': 50}\n",
      "-1.3295377373695374,0.6363427964769303 with {'batch_size': 50, 'epochs': 100}\n",
      "-0.8493212640285492,0.28902519768644597 with {'batch_size': 50, 'epochs': 200}\n"
     ]
    }
   ],
   "source": [
    "print('Best {}, using {}'.format(grid_result.best_score_,grid_result.best_params_))\n",
    "means = grid_result.cv_results_[\"mean_test_score\"]\n",
    "stds = grid_result.cv_results_[\"std_test_score\"]\n",
    "params = grid_result.cv_results_[\"params\"]\n",
    "for mean,stdev,param in zip(means,stds,params):\n",
    "    print(\"{},{} with {}\".format(mean,stdev,param))"
   ]
  },
  {
   "attachments": {},
   "cell_type": "markdown",
   "id": "d13504d6",
   "metadata": {},
   "source": [
    "### Optimal Droupout rate<a class=\"anchor\" id=\"6.3\"></a>"
   ]
  },
  {
   "cell_type": "code",
   "execution_count": 119,
   "id": "f78fcd70",
   "metadata": {},
   "outputs": [],
   "source": [
    "def create_model(dropout_rate):\n",
    "    model2 = Sequential()\n",
    "    model2.add(Dense(32,input_dim=7,activation='relu'))\n",
    "    model2.add(Dense(64,activation='relu'))\n",
    "    model2.add(Dense(96,activation=\"relu\"))\n",
    "    model2.add(Dense(32,activation=\"relu\"))\n",
    "    model2.add(Dense(64,activation=\"relu\"))\n",
    "    model2.add(Dense(32,activation=\"relu\"))\n",
    "    model2.add(Dense(96,activation=\"relu\"))\n",
    "    model2.add(Dense(96,activation=\"relu\"))\n",
    "    model2.add(Dense(32,activation=\"relu\"))\n",
    "    model2.add(Dense(64,activation=\"relu\"))\n",
    "    model2.add(Dense(64,activation=\"relu\"))\n",
    "    model2.add(Dense(units=1,activation=\"linear\"))\n",
    "    \n",
    "    adam=Adam(lr=0.001)\n",
    "    model2.compile(loss='mean_absolute_error',optimizer = adam,metrics=[\"mean_absolute_error\"])\n",
    "    return model2"
   ]
  },
  {
   "cell_type": "code",
   "execution_count": 120,
   "id": "58d25b83",
   "metadata": {},
   "outputs": [],
   "source": [
    "model2=KerasRegressor(build_fn=create_model,batch_size=40,epochs=200,verbose=0)\n",
    "dropout_rate=[0.0,0.1,0.2,0.3,0.4,0.5]\n",
    "param_grid=dict(dropout_rate=dropout_rate)\n",
    "grid2 = GridSearchCV(estimator=model2,param_grid=param_grid,cv=KFold(),verbose=10)"
   ]
  },
  {
   "cell_type": "code",
   "execution_count": null,
   "id": "db27e61c",
   "metadata": {},
   "outputs": [],
   "source": [
    "grid_result2 = grid2.fit(x_test,y_test)"
   ]
  },
  {
   "cell_type": "code",
   "execution_count": 122,
   "id": "2bb94820",
   "metadata": {},
   "outputs": [
    {
     "name": "stdout",
     "output_type": "stream",
     "text": [
      "Best -0.6679447650909424, using {'dropout_rate': 0.3}\n",
      "-0.8323201537132263,0.26923293832543493 with {'dropout_rate': 0.0}\n",
      "-1.1670883774757386,0.5794670480557291 with {'dropout_rate': 0.1}\n",
      "-1.182572340965271,0.5096832458496641 with {'dropout_rate': 0.2}\n",
      "-0.6679447650909424,0.27758018642107785 with {'dropout_rate': 0.3}\n",
      "-1.0636109471321107,0.20700826606234907 with {'dropout_rate': 0.4}\n",
      "-0.9452173233032226,0.20756484640550968 with {'dropout_rate': 0.5}\n"
     ]
    }
   ],
   "source": [
    "print('Best {}, using {}'.format(grid_result2.best_score_,grid_result2.best_params_))\n",
    "means = grid_result2.cv_results_[\"mean_test_score\"]\n",
    "stds = grid_result2.cv_results_[\"std_test_score\"]\n",
    "params = grid_result2.cv_results_[\"params\"]\n",
    "for mean,stdev,param in zip(means,stds,params):\n",
    "    print(\"{},{} with {}\".format(mean,stdev,param))"
   ]
  },
  {
   "attachments": {},
   "cell_type": "markdown",
   "id": "7d5d7ac9",
   "metadata": {},
   "source": [
    "### Optimal Activation Function and Kernel Initializer<a class=\"anchor\" id=\"6.4\"></a>"
   ]
  },
  {
   "cell_type": "code",
   "execution_count": 123,
   "id": "967a290a",
   "metadata": {},
   "outputs": [],
   "source": [
    "def create_model(activation_function,init):\n",
    "    model3 = Sequential()\n",
    "    model3.add(Dense(32,input_dim=7,activation='relu'))\n",
    "    model3.add(Dropout(0.3))\n",
    "    model3.add(Dense(64,activation='relu'))\n",
    "    model3.add(Dropout(0.3))\n",
    "    model3.add(Dense(96,activation=\"relu\"))\n",
    "    model3.add(Dropout(0.3))\n",
    "    model3.add(Dense(32,activation=\"relu\"))\n",
    "    model3.add(Dropout(0.3))\n",
    "    model3.add(Dense(64,activation=\"relu\"))\n",
    "    model3.add(Dropout(0.3))\n",
    "    model3.add(Dense(32,activation=\"relu\"))\n",
    "    model3.add(Dropout(0.3))\n",
    "    model3.add(Dense(96,activation=\"relu\"))\n",
    "    model3.add(Dropout(0.3))\n",
    "    model3.add(Dense(96,activation=\"relu\"))\n",
    "    model3.add(Dropout(0.3))\n",
    "    model3.add(Dense(32,activation=\"relu\"))\n",
    "    model3.add(Dropout(0.3))\n",
    "    model3.add(Dense(64,activation=\"relu\"))\n",
    "    model3.add(Dropout(0.3))\n",
    "    model3.add(Dense(64,activation=\"relu\"))\n",
    "    model3.add(Dropout(0.3))\n",
    "    model3.add(Dense(units=1,activation=\"linear\"))\n",
    "    \n",
    "    adam=Adam(lr=0.001)\n",
    "    model3.compile(loss='mean_absolute_error',optimizer = adam,metrics=[\"mean_absolute_error\"])\n",
    "    return model3"
   ]
  },
  {
   "cell_type": "code",
   "execution_count": 124,
   "id": "222700be",
   "metadata": {},
   "outputs": [],
   "source": [
    "model3=KerasRegressor(build_fn=create_model,batch_size=40,epochs=200,verbose=0)\n",
    "activation_function=['softmax','tanh','relu']\n",
    "init=['normal','uniform','zero']\n",
    "param_grid=dict(activation_function=activation_function,init=init)\n",
    "grid3 = GridSearchCV(estimator=model3,param_grid=param_grid,cv=KFold(),verbose=10)"
   ]
  },
  {
   "cell_type": "code",
   "execution_count": null,
   "id": "c82da1b5",
   "metadata": {},
   "outputs": [],
   "source": [
    "grid_result3 = grid3.fit(x_test,y_test)"
   ]
  },
  {
   "cell_type": "code",
   "execution_count": 126,
   "id": "89ba0503",
   "metadata": {},
   "outputs": [
    {
     "name": "stdout",
     "output_type": "stream",
     "text": [
      "Best -3.122679662704468, using {'activation_function': 'softmax', 'init': 'uniform'}\n",
      "-3.5212940216064452,0.8786527863154662 with {'activation_function': 'softmax', 'init': 'normal'}\n",
      "-3.122679662704468,0.6747694999995387 with {'activation_function': 'softmax', 'init': 'uniform'}\n",
      "-3.262042427062988,1.3589116630891251 with {'activation_function': 'softmax', 'init': 'zero'}\n",
      "-3.5312024116516114,0.7796613422378148 with {'activation_function': 'tanh', 'init': 'normal'}\n",
      "-4.61785249710083,1.342868088610206 with {'activation_function': 'tanh', 'init': 'uniform'}\n",
      "-3.2921382427215575,0.5384224892388144 with {'activation_function': 'tanh', 'init': 'zero'}\n",
      "-4.91969141960144,1.3631206250623549 with {'activation_function': 'relu', 'init': 'normal'}\n",
      "-3.7872642040252686,1.9546784298801612 with {'activation_function': 'relu', 'init': 'uniform'}\n",
      "-3.934886360168457,1.6337526760723777 with {'activation_function': 'relu', 'init': 'zero'}\n"
     ]
    }
   ],
   "source": [
    "print('Best {}, using {}'.format(grid_result3.best_score_,grid_result3.best_params_))\n",
    "means = grid_result3.cv_results_[\"mean_test_score\"]\n",
    "stds = grid_result3.cv_results_[\"std_test_score\"]\n",
    "params = grid_result3.cv_results_[\"params\"]\n",
    "for mean,stdev,param in zip(means,stds,params):\n",
    "    print(\"{},{} with {}\".format(mean,stdev,param))"
   ]
  },
  {
   "cell_type": "code",
   "execution_count": 147,
   "id": "12c0938e",
   "metadata": {},
   "outputs": [
    {
     "data": {
      "text/html": [
       "<div>\n",
       "<style scoped>\n",
       "    .dataframe tbody tr th:only-of-type {\n",
       "        vertical-align: middle;\n",
       "    }\n",
       "\n",
       "    .dataframe tbody tr th {\n",
       "        vertical-align: top;\n",
       "    }\n",
       "\n",
       "    .dataframe thead th {\n",
       "        text-align: right;\n",
       "    }\n",
       "</style>\n",
       "<table border=\"1\" class=\"dataframe\">\n",
       "  <thead>\n",
       "    <tr style=\"text-align: right;\">\n",
       "      <th></th>\n",
       "      <th>CDP</th>\n",
       "      <th>GTEP</th>\n",
       "      <th>TIT</th>\n",
       "      <th>TAT</th>\n",
       "      <th>AFDP</th>\n",
       "      <th>CO</th>\n",
       "      <th>AT</th>\n",
       "      <th>TEY</th>\n",
       "    </tr>\n",
       "  </thead>\n",
       "  <tbody>\n",
       "    <tr>\n",
       "      <th>0</th>\n",
       "      <td>10.605</td>\n",
       "      <td>19.663</td>\n",
       "      <td>1059.2</td>\n",
       "      <td>550.00</td>\n",
       "      <td>3.5000</td>\n",
       "      <td>3.1547</td>\n",
       "      <td>6.8594</td>\n",
       "      <td>114.70</td>\n",
       "    </tr>\n",
       "    <tr>\n",
       "      <th>1</th>\n",
       "      <td>10.598</td>\n",
       "      <td>19.728</td>\n",
       "      <td>1059.3</td>\n",
       "      <td>550.00</td>\n",
       "      <td>3.4998</td>\n",
       "      <td>3.2363</td>\n",
       "      <td>6.7850</td>\n",
       "      <td>114.72</td>\n",
       "    </tr>\n",
       "    <tr>\n",
       "      <th>2</th>\n",
       "      <td>10.601</td>\n",
       "      <td>19.779</td>\n",
       "      <td>1059.4</td>\n",
       "      <td>549.87</td>\n",
       "      <td>3.4824</td>\n",
       "      <td>3.2012</td>\n",
       "      <td>6.8977</td>\n",
       "      <td>114.71</td>\n",
       "    </tr>\n",
       "    <tr>\n",
       "      <th>3</th>\n",
       "      <td>10.606</td>\n",
       "      <td>19.792</td>\n",
       "      <td>1059.6</td>\n",
       "      <td>549.99</td>\n",
       "      <td>3.4805</td>\n",
       "      <td>3.1923</td>\n",
       "      <td>7.0569</td>\n",
       "      <td>114.72</td>\n",
       "    </tr>\n",
       "    <tr>\n",
       "      <th>4</th>\n",
       "      <td>10.612</td>\n",
       "      <td>19.765</td>\n",
       "      <td>1059.7</td>\n",
       "      <td>549.98</td>\n",
       "      <td>3.4976</td>\n",
       "      <td>3.2484</td>\n",
       "      <td>7.3978</td>\n",
       "      <td>114.72</td>\n",
       "    </tr>\n",
       "    <tr>\n",
       "      <th>...</th>\n",
       "      <td>...</td>\n",
       "      <td>...</td>\n",
       "      <td>...</td>\n",
       "      <td>...</td>\n",
       "      <td>...</td>\n",
       "      <td>...</td>\n",
       "      <td>...</td>\n",
       "      <td>...</td>\n",
       "    </tr>\n",
       "    <tr>\n",
       "      <th>15034</th>\n",
       "      <td>10.400</td>\n",
       "      <td>19.164</td>\n",
       "      <td>1049.7</td>\n",
       "      <td>546.21</td>\n",
       "      <td>3.5421</td>\n",
       "      <td>4.5186</td>\n",
       "      <td>9.0301</td>\n",
       "      <td>111.61</td>\n",
       "    </tr>\n",
       "    <tr>\n",
       "      <th>15035</th>\n",
       "      <td>10.433</td>\n",
       "      <td>19.414</td>\n",
       "      <td>1046.3</td>\n",
       "      <td>543.22</td>\n",
       "      <td>3.5059</td>\n",
       "      <td>4.8470</td>\n",
       "      <td>7.8879</td>\n",
       "      <td>111.78</td>\n",
       "    </tr>\n",
       "    <tr>\n",
       "      <th>15036</th>\n",
       "      <td>10.483</td>\n",
       "      <td>19.530</td>\n",
       "      <td>1037.7</td>\n",
       "      <td>537.32</td>\n",
       "      <td>3.4770</td>\n",
       "      <td>7.9632</td>\n",
       "      <td>7.2647</td>\n",
       "      <td>110.19</td>\n",
       "    </tr>\n",
       "    <tr>\n",
       "      <th>15037</th>\n",
       "      <td>10.533</td>\n",
       "      <td>19.377</td>\n",
       "      <td>1043.2</td>\n",
       "      <td>541.24</td>\n",
       "      <td>3.4486</td>\n",
       "      <td>6.2494</td>\n",
       "      <td>7.0060</td>\n",
       "      <td>110.74</td>\n",
       "    </tr>\n",
       "    <tr>\n",
       "      <th>15038</th>\n",
       "      <td>10.583</td>\n",
       "      <td>19.306</td>\n",
       "      <td>1049.9</td>\n",
       "      <td>545.85</td>\n",
       "      <td>3.4275</td>\n",
       "      <td>4.9816</td>\n",
       "      <td>6.9279</td>\n",
       "      <td>111.58</td>\n",
       "    </tr>\n",
       "  </tbody>\n",
       "</table>\n",
       "<p>15039 rows × 8 columns</p>\n",
       "</div>"
      ],
      "text/plain": [
       "          CDP    GTEP     TIT     TAT    AFDP      CO      AT     TEY\n",
       "0      10.605  19.663  1059.2  550.00  3.5000  3.1547  6.8594  114.70\n",
       "1      10.598  19.728  1059.3  550.00  3.4998  3.2363  6.7850  114.72\n",
       "2      10.601  19.779  1059.4  549.87  3.4824  3.2012  6.8977  114.71\n",
       "3      10.606  19.792  1059.6  549.99  3.4805  3.1923  7.0569  114.72\n",
       "4      10.612  19.765  1059.7  549.98  3.4976  3.2484  7.3978  114.72\n",
       "...       ...     ...     ...     ...     ...     ...     ...     ...\n",
       "15034  10.400  19.164  1049.7  546.21  3.5421  4.5186  9.0301  111.61\n",
       "15035  10.433  19.414  1046.3  543.22  3.5059  4.8470  7.8879  111.78\n",
       "15036  10.483  19.530  1037.7  537.32  3.4770  7.9632  7.2647  110.19\n",
       "15037  10.533  19.377  1043.2  541.24  3.4486  6.2494  7.0060  110.74\n",
       "15038  10.583  19.306  1049.9  545.85  3.4275  4.9816  6.9279  111.58\n",
       "\n",
       "[15039 rows x 8 columns]"
      ]
     },
     "execution_count": 147,
     "metadata": {},
     "output_type": "execute_result"
    }
   ],
   "source": [
    "model_data"
   ]
  },
  {
   "cell_type": "code",
   "execution_count": 161,
   "id": "48a96a38",
   "metadata": {},
   "outputs": [
    {
     "name": "stdout",
     "output_type": "stream",
     "text": [
      "(12031, 7)\n",
      "(3008, 7)\n",
      "(12031, 1)\n",
      "(3008, 1)\n"
     ]
    }
   ],
   "source": [
    "x = model_data.drop('TEY', axis=1)\n",
    "y = model_data[[\"TEY\"]]\n",
    "\n",
    "x_train, x_test, y_train, y_test = train_test_split(x,y, test_size = 0.20, random_state=42)\n",
    "\n",
    "scaler_train = StandardScaler()\n",
    "scaler_test = StandardScaler()\n",
    "\n",
    "x_train_scaled = scaler_train.fit_transform(x_train) # scaling train data -- predictor\n",
    "x_test_scaled  = scaler_test.fit_transform(x_test) # scaling test data -- predictor\n",
    "\n",
    "print(x_train_scaled.shape)\n",
    "print(x_test_scaled.shape)\n",
    "print(y_train.shape)\n",
    "print(y_test.shape)"
   ]
  },
  {
   "cell_type": "code",
   "execution_count": null,
   "id": "edd00701",
   "metadata": {},
   "outputs": [],
   "source": [
    "# since we have continuous ouput, AF is not required in the o/p layer\n",
    "model = Sequential()\n",
    "model.add( Dense( units = 50 , activation = 'relu' , kernel_initializer = 'normal', input_dim = 7)) # input layer\n",
    "model.add( Dense( units = 20 , activation = 'tanh' , kernel_initializer = 'normal' )) # hidden layer\n",
    "model.add( Dense( units = 1  , kernel_initializer = 'normal' )) # o/p layer\n",
    "\n",
    "model.compile(optimizer= \"adam\", loss=\"mse\", metrics= [\"mae\", \"mse\"])\n",
    "model.fit(x_train_scaled, y_train , batch_size=50, validation_split=0.3, epochs=100,  verbose=1)"
   ]
  },
  {
   "cell_type": "code",
   "execution_count": 151,
   "id": "0949ed9a",
   "metadata": {},
   "outputs": [
    {
     "name": "stdout",
     "output_type": "stream",
     "text": [
      "94/94 [==============================] - 0s 2ms/step\n",
      "batch_size: 5 - epochs: 5 Accuracy: 97.73075369067175\n",
      "94/94 [==============================] - 0s 2ms/step\n",
      "batch_size: 5 - epochs: 10 Accuracy: 99.5585905304457\n",
      "94/94 [==============================] - 0s 2ms/step\n",
      "batch_size: 5 - epochs: 50 Accuracy: 99.65107608927266\n",
      "94/94 [==============================] - 0s 2ms/step\n",
      "batch_size: 5 - epochs: 100 Accuracy: 99.64736833004822\n",
      "94/94 [==============================] - 0s 2ms/step\n",
      "batch_size: 10 - epochs: 5 Accuracy: 80.90613588380201\n",
      "94/94 [==============================] - 0s 3ms/step\n",
      "batch_size: 10 - epochs: 10 Accuracy: 98.2573511745601\n",
      "94/94 [==============================] - 0s 2ms/step\n",
      "batch_size: 10 - epochs: 50 Accuracy: 99.65084677862158\n",
      "94/94 [==============================] - 0s 2ms/step\n",
      "batch_size: 10 - epochs: 100 Accuracy: 99.58161139512534\n",
      "94/94 [==============================] - 0s 2ms/step\n",
      "batch_size: 15 - epochs: 5 Accuracy: 58.854512990805404\n",
      "94/94 [==============================] - 0s 2ms/step\n",
      "batch_size: 15 - epochs: 10 Accuracy: 89.82417947308262\n",
      "94/94 [==============================] - 0s 2ms/step\n",
      "batch_size: 15 - epochs: 50 Accuracy: 99.6253504445297\n",
      "94/94 [==============================] - 0s 2ms/step\n",
      "batch_size: 15 - epochs: 100 Accuracy: 99.63428305186946\n",
      "94/94 [==============================] - 0s 2ms/step\n",
      "batch_size: 20 - epochs: 5 Accuracy: 46.13226823645566\n",
      "94/94 [==============================] - 0s 2ms/step\n",
      "batch_size: 20 - epochs: 10 Accuracy: 80.97753229527885\n",
      "94/94 [==============================] - 0s 2ms/step\n",
      "batch_size: 20 - epochs: 50 Accuracy: 99.66061724651402\n",
      "94/94 [==============================] - 0s 2ms/step\n",
      "batch_size: 20 - epochs: 100 Accuracy: 99.68478888871317\n"
     ]
    },
    {
     "data": {
      "text/html": [
       "<div>\n",
       "<style scoped>\n",
       "    .dataframe tbody tr th:only-of-type {\n",
       "        vertical-align: middle;\n",
       "    }\n",
       "\n",
       "    .dataframe tbody tr th {\n",
       "        vertical-align: top;\n",
       "    }\n",
       "\n",
       "    .dataframe thead th {\n",
       "        text-align: right;\n",
       "    }\n",
       "</style>\n",
       "<table border=\"1\" class=\"dataframe\">\n",
       "  <thead>\n",
       "    <tr style=\"text-align: right;\">\n",
       "      <th></th>\n",
       "      <th>batchsize</th>\n",
       "      <th>epochs</th>\n",
       "      <th>Accuracy</th>\n",
       "    </tr>\n",
       "  </thead>\n",
       "  <tbody>\n",
       "    <tr>\n",
       "      <th>0</th>\n",
       "      <td>5</td>\n",
       "      <td>5</td>\n",
       "      <td>97.730754</td>\n",
       "    </tr>\n",
       "    <tr>\n",
       "      <th>0</th>\n",
       "      <td>5</td>\n",
       "      <td>10</td>\n",
       "      <td>99.558591</td>\n",
       "    </tr>\n",
       "    <tr>\n",
       "      <th>0</th>\n",
       "      <td>5</td>\n",
       "      <td>50</td>\n",
       "      <td>99.651076</td>\n",
       "    </tr>\n",
       "    <tr>\n",
       "      <th>0</th>\n",
       "      <td>5</td>\n",
       "      <td>100</td>\n",
       "      <td>99.647368</td>\n",
       "    </tr>\n",
       "    <tr>\n",
       "      <th>0</th>\n",
       "      <td>10</td>\n",
       "      <td>5</td>\n",
       "      <td>80.906136</td>\n",
       "    </tr>\n",
       "    <tr>\n",
       "      <th>0</th>\n",
       "      <td>10</td>\n",
       "      <td>10</td>\n",
       "      <td>98.257351</td>\n",
       "    </tr>\n",
       "    <tr>\n",
       "      <th>0</th>\n",
       "      <td>10</td>\n",
       "      <td>50</td>\n",
       "      <td>99.650847</td>\n",
       "    </tr>\n",
       "    <tr>\n",
       "      <th>0</th>\n",
       "      <td>10</td>\n",
       "      <td>100</td>\n",
       "      <td>99.581611</td>\n",
       "    </tr>\n",
       "    <tr>\n",
       "      <th>0</th>\n",
       "      <td>15</td>\n",
       "      <td>5</td>\n",
       "      <td>58.854513</td>\n",
       "    </tr>\n",
       "    <tr>\n",
       "      <th>0</th>\n",
       "      <td>15</td>\n",
       "      <td>10</td>\n",
       "      <td>89.824179</td>\n",
       "    </tr>\n",
       "    <tr>\n",
       "      <th>0</th>\n",
       "      <td>15</td>\n",
       "      <td>50</td>\n",
       "      <td>99.625350</td>\n",
       "    </tr>\n",
       "    <tr>\n",
       "      <th>0</th>\n",
       "      <td>15</td>\n",
       "      <td>100</td>\n",
       "      <td>99.634283</td>\n",
       "    </tr>\n",
       "    <tr>\n",
       "      <th>0</th>\n",
       "      <td>20</td>\n",
       "      <td>5</td>\n",
       "      <td>46.132268</td>\n",
       "    </tr>\n",
       "    <tr>\n",
       "      <th>0</th>\n",
       "      <td>20</td>\n",
       "      <td>10</td>\n",
       "      <td>80.977532</td>\n",
       "    </tr>\n",
       "    <tr>\n",
       "      <th>0</th>\n",
       "      <td>20</td>\n",
       "      <td>50</td>\n",
       "      <td>99.660617</td>\n",
       "    </tr>\n",
       "    <tr>\n",
       "      <th>0</th>\n",
       "      <td>20</td>\n",
       "      <td>100</td>\n",
       "      <td>99.684789</td>\n",
       "    </tr>\n",
       "  </tbody>\n",
       "</table>\n",
       "</div>"
      ],
      "text/plain": [
       "   batchsize  epochs   Accuracy\n",
       "0          5       5  97.730754\n",
       "0          5      10  99.558591\n",
       "0          5      50  99.651076\n",
       "0          5     100  99.647368\n",
       "0         10       5  80.906136\n",
       "0         10      10  98.257351\n",
       "0         10      50  99.650847\n",
       "0         10     100  99.581611\n",
       "0         15       5  58.854513\n",
       "0         15      10  89.824179\n",
       "0         15      50  99.625350\n",
       "0         15     100  99.634283\n",
       "0         20       5  46.132268\n",
       "0         20      10  80.977532\n",
       "0         20      50  99.660617\n",
       "0         20     100  99.684789"
      ]
     },
     "execution_count": 151,
     "metadata": {},
     "output_type": "execute_result"
    }
   ],
   "source": [
    "def toFindBestParams(x_train_scaled, y_train, x_test_scaled, y_test):\n",
    "        \n",
    "    #defining list of hyperparameters\n",
    "    batch_size_list = [5 , 10 , 15 , 20]\n",
    "    epoch_list      = [5 , 10 , 50 , 100]\n",
    "     \n",
    "    bestParamTable = pd.DataFrame()\n",
    "    \n",
    "    for batch_trial in batch_size_list:\n",
    "        for epochs_trial in epoch_list:\n",
    "            \n",
    "            # create ANN model\n",
    "            model = Sequential()\n",
    "            # Defining the first layer of the model\n",
    "            model.add(Dense(units=50, input_dim=x_train_scaled.shape[1], kernel_initializer='normal', activation='relu'))\n",
    "            \n",
    "            # Defining the Second layer of the model\n",
    "            model.add(Dense(units=20, kernel_initializer='normal', activation='tanh'))\n",
    " \n",
    "            # The output neuron is a single fully connected node \n",
    "            # Since we will be predicting a single number\n",
    "            model.add(Dense(1, kernel_initializer='normal'))\n",
    " \n",
    "            # Compiling the model\n",
    "            model.compile(optimizer ='adam', loss = 'mean_squared_error')\n",
    "            \n",
    "            # Fitting the ANN to the Training set\n",
    "            model.fit(x_train_scaled, y_train , batch_size=batch_trial, epochs=epochs_trial,  verbose=0)\n",
    "                        \n",
    "            MAPE = np.mean(100 * (np.abs(y_test-model.predict(x_test_scaled))/y_test))  \n",
    "                        \n",
    "            bestParamTable=bestParamTable.append(pd.DataFrame(data=[[batch_trial, epochs_trial, 100-MAPE]],\n",
    "                                                        columns=['batchsize','epochs','Accuracy'] ))\n",
    "            \n",
    "            # printing the results of the current iteration\n",
    "            print('batch_size:', batch_trial,'-', 'epochs:',epochs_trial, 'Accuracy:',100-MAPE)\n",
    "\n",
    "    return bestParamTable\n",
    "\n",
    "# Calling the function\n",
    "finalParamTable = toFindBestParams(x_train_scaled, y_train, x_test_scaled, y_test)\n",
    "finalParamTable"
   ]
  },
  {
   "cell_type": "code",
   "execution_count": 152,
   "id": "f2805a7e",
   "metadata": {},
   "outputs": [
    {
     "data": {
      "text/plain": [
       "index          0.000000\n",
       "batchsize     20.000000\n",
       "epochs       100.000000\n",
       "Accuracy      99.684789\n",
       "Name: 15, dtype: float64"
      ]
     },
     "execution_count": 152,
     "metadata": {},
     "output_type": "execute_result"
    }
   ],
   "source": [
    "# getting corresponding row values of the maximum value of 'Accuracy' column\n",
    "finalParamTable = finalParamTable.reset_index()\n",
    "finalParamTable.iloc[finalParamTable['Accuracy'].idxmax()]"
   ]
  },
  {
   "attachments": {},
   "cell_type": "markdown",
   "id": "b73d2552",
   "metadata": {},
   "source": [
    "#### Training Model - using best params"
   ]
  },
  {
   "cell_type": "code",
   "execution_count": 153,
   "id": "098d6d1a",
   "metadata": {},
   "outputs": [
    {
     "data": {
      "text/plain": [
       "<keras.callbacks.History at 0x14bf1f099a0>"
      ]
     },
     "execution_count": 153,
     "metadata": {},
     "output_type": "execute_result"
    }
   ],
   "source": [
    "model.compile(optimizer ='adam', loss = 'mean_squared_error')\n",
    "# fitting the model to best params\n",
    "model.fit(x_train_scaled,y_train, batch_size=20 , epochs = 100, verbose=0)"
   ]
  },
  {
   "attachments": {},
   "cell_type": "markdown",
   "id": "392f48a1",
   "metadata": {},
   "source": [
    "### Model Evaluation Train and Test Error<a class=\"anchor\" id=\"7.1\"></a>"
   ]
  },
  {
   "cell_type": "code",
   "execution_count": 189,
   "id": "0a89564b",
   "metadata": {},
   "outputs": [
    {
     "data": {
      "image/png": "[encoded data removed]",
      "text/plain": [
       "<Figure size 1152x648 with 1 Axes>"
      ]
     },
     "metadata": {},
     "output_type": "display_data"
    },
    {
     "data": {
      "image/png": "[encoded data removed]",
      "text/plain": [
       "<Figure size 1152x648 with 1 Axes>"
      ]
     },
     "metadata": {},
     "output_type": "display_data"
    }
   ],
   "source": [
    "plt.figure(figsize=(16,9))\n",
    "plt.plot(model.history.history['mae'])\n",
    "plt.plot(model.history.history['mse'])\n",
    "plt.title(\"Model's Mean Absolute and Squared Errors\")\n",
    "plt.xlabel('Epoch')\n",
    "plt.ylabel('Error')\n",
    "plt.legend(['Mean Absulote Erroe', 'Mean Squared Error'],loc = 'upper left')\n",
    "plt.show()\n",
    "#summarize history for loss\n",
    "plt.figure(figsize=(16,9))\n",
    "plt.plot(model.history.history['loss'])\n",
    "plt.plot(model.history.history['val_loss'])\n",
    "plt.title('Model-loss')\n",
    "plt.xlabel('Epoch')\n",
    "plt.ylabel('Mean-Absolute-Error')\n",
    "plt.legend(['Training Error', 'Testing Error'],loc='upper left')\n",
    "plt.show()"
   ]
  },
  {
   "cell_type": "code",
   "execution_count": 164,
   "id": "9711e9e6",
   "metadata": {},
   "outputs": [
    {
     "name": "stdout",
     "output_type": "stream",
     "text": [
      "94/94 [==============================] - 0s 2ms/step\n",
      "(3008, 9)\n"
     ]
    },
    {
     "data": {
      "text/html": [
       "<div>\n",
       "<style scoped>\n",
       "    .dataframe tbody tr th:only-of-type {\n",
       "        vertical-align: middle;\n",
       "    }\n",
       "\n",
       "    .dataframe tbody tr th {\n",
       "        vertical-align: top;\n",
       "    }\n",
       "\n",
       "    .dataframe thead th {\n",
       "        text-align: right;\n",
       "    }\n",
       "</style>\n",
       "<table border=\"1\" class=\"dataframe\">\n",
       "  <thead>\n",
       "    <tr style=\"text-align: right;\">\n",
       "      <th></th>\n",
       "      <th>CDP</th>\n",
       "      <th>GTEP</th>\n",
       "      <th>TIT</th>\n",
       "      <th>TAT</th>\n",
       "      <th>AFDP</th>\n",
       "      <th>CO</th>\n",
       "      <th>AT</th>\n",
       "      <th>Actual</th>\n",
       "      <th>Predicted</th>\n",
       "    </tr>\n",
       "  </thead>\n",
       "  <tbody>\n",
       "    <tr>\n",
       "      <th>13312</th>\n",
       "      <td>12.219</td>\n",
       "      <td>25.762</td>\n",
       "      <td>1092.5</td>\n",
       "      <td>550.25</td>\n",
       "      <td>4.0023</td>\n",
       "      <td>1.26430</td>\n",
       "      <td>24.0930</td>\n",
       "      <td>134.46</td>\n",
       "      <td>134.671204</td>\n",
       "    </tr>\n",
       "    <tr>\n",
       "      <th>12627</th>\n",
       "      <td>10.791</td>\n",
       "      <td>20.085</td>\n",
       "      <td>1059.6</td>\n",
       "      <td>549.94</td>\n",
       "      <td>3.2106</td>\n",
       "      <td>2.69370</td>\n",
       "      <td>20.4500</td>\n",
       "      <td>111.88</td>\n",
       "      <td>112.273460</td>\n",
       "    </tr>\n",
       "    <tr>\n",
       "      <th>6393</th>\n",
       "      <td>12.126</td>\n",
       "      <td>25.221</td>\n",
       "      <td>1089.9</td>\n",
       "      <td>549.62</td>\n",
       "      <td>4.5325</td>\n",
       "      <td>1.96250</td>\n",
       "      <td>20.2620</td>\n",
       "      <td>133.72</td>\n",
       "      <td>134.256805</td>\n",
       "    </tr>\n",
       "    <tr>\n",
       "      <th>4990</th>\n",
       "      <td>12.218</td>\n",
       "      <td>25.965</td>\n",
       "      <td>1092.9</td>\n",
       "      <td>549.96</td>\n",
       "      <td>4.4266</td>\n",
       "      <td>1.57120</td>\n",
       "      <td>26.8620</td>\n",
       "      <td>133.79</td>\n",
       "      <td>134.045410</td>\n",
       "    </tr>\n",
       "    <tr>\n",
       "      <th>12462</th>\n",
       "      <td>10.466</td>\n",
       "      <td>19.688</td>\n",
       "      <td>1056.9</td>\n",
       "      <td>550.01</td>\n",
       "      <td>3.1241</td>\n",
       "      <td>2.29960</td>\n",
       "      <td>19.4090</td>\n",
       "      <td>110.77</td>\n",
       "      <td>111.272774</td>\n",
       "    </tr>\n",
       "    <tr>\n",
       "      <th>7405</th>\n",
       "      <td>10.624</td>\n",
       "      <td>19.387</td>\n",
       "      <td>1058.9</td>\n",
       "      <td>550.17</td>\n",
       "      <td>3.3709</td>\n",
       "      <td>4.27640</td>\n",
       "      <td>2.2158</td>\n",
       "      <td>113.32</td>\n",
       "      <td>113.671730</td>\n",
       "    </tr>\n",
       "    <tr>\n",
       "      <th>10993</th>\n",
       "      <td>12.088</td>\n",
       "      <td>25.392</td>\n",
       "      <td>1089.7</td>\n",
       "      <td>550.11</td>\n",
       "      <td>3.7871</td>\n",
       "      <td>0.83578</td>\n",
       "      <td>23.8520</td>\n",
       "      <td>133.77</td>\n",
       "      <td>133.790131</td>\n",
       "    </tr>\n",
       "    <tr>\n",
       "      <th>9488</th>\n",
       "      <td>11.498</td>\n",
       "      <td>23.225</td>\n",
       "      <td>1079.4</td>\n",
       "      <td>549.60</td>\n",
       "      <td>4.2837</td>\n",
       "      <td>2.01980</td>\n",
       "      <td>12.3950</td>\n",
       "      <td>128.98</td>\n",
       "      <td>129.272095</td>\n",
       "    </tr>\n",
       "    <tr>\n",
       "      <th>14201</th>\n",
       "      <td>13.971</td>\n",
       "      <td>32.518</td>\n",
       "      <td>1100.1</td>\n",
       "      <td>528.98</td>\n",
       "      <td>5.1559</td>\n",
       "      <td>0.87760</td>\n",
       "      <td>12.3590</td>\n",
       "      <td>159.42</td>\n",
       "      <td>160.486389</td>\n",
       "    </tr>\n",
       "    <tr>\n",
       "      <th>9757</th>\n",
       "      <td>13.862</td>\n",
       "      <td>32.105</td>\n",
       "      <td>1100.0</td>\n",
       "      <td>530.69</td>\n",
       "      <td>5.9309</td>\n",
       "      <td>10.75000</td>\n",
       "      <td>8.6376</td>\n",
       "      <td>161.86</td>\n",
       "      <td>161.446960</td>\n",
       "    </tr>\n",
       "  </tbody>\n",
       "</table>\n",
       "</div>"
      ],
      "text/plain": [
       "          CDP    GTEP     TIT     TAT    AFDP        CO       AT  Actual  \\\n",
       "13312  12.219  25.762  1092.5  550.25  4.0023   1.26430  24.0930  134.46   \n",
       "12627  10.791  20.085  1059.6  549.94  3.2106   2.69370  20.4500  111.88   \n",
       "6393   12.126  25.221  1089.9  549.62  4.5325   1.96250  20.2620  133.72   \n",
       "4990   12.218  25.965  1092.9  549.96  4.4266   1.57120  26.8620  133.79   \n",
       "12462  10.466  19.688  1056.9  550.01  3.1241   2.29960  19.4090  110.77   \n",
       "7405   10.624  19.387  1058.9  550.17  3.3709   4.27640   2.2158  113.32   \n",
       "10993  12.088  25.392  1089.7  550.11  3.7871   0.83578  23.8520  133.77   \n",
       "9488   11.498  23.225  1079.4  549.60  4.2837   2.01980  12.3950  128.98   \n",
       "14201  13.971  32.518  1100.1  528.98  5.1559   0.87760  12.3590  159.42   \n",
       "9757   13.862  32.105  1100.0  530.69  5.9309  10.75000   8.6376  161.86   \n",
       "\n",
       "        Predicted  \n",
       "13312  134.671204  \n",
       "12627  112.273460  \n",
       "6393   134.256805  \n",
       "4990   134.045410  \n",
       "12462  111.272774  \n",
       "7405   113.671730  \n",
       "10993  133.790131  \n",
       "9488   129.272095  \n",
       "14201  160.486389  \n",
       "9757   161.446960  "
      ]
     },
     "execution_count": 164,
     "metadata": {},
     "output_type": "execute_result"
    }
   ],
   "source": [
    "# generating predictions for test data\n",
    "y_predict_test = model.predict(x_test_scaled) \n",
    "\n",
    "# creating table with test price & predicted price for test\n",
    "predictions_df = pd.DataFrame(x_test)\n",
    "predictions_df['Actual'] = y_test\n",
    "predictions_df['Predicted'] = y_predict_test\n",
    "print(predictions_df.shape)\n",
    "predictions_df.head(10)"
   ]
  },
  {
   "cell_type": "code",
   "execution_count": 192,
   "id": "46821d49",
   "metadata": {},
   "outputs": [],
   "source": [
    "predictions_df.drop(['CDP','GTEP','TIT','TAT','AFDP','CO','AT'], axis =1 , inplace = True)"
   ]
  },
  {
   "cell_type": "code",
   "execution_count": 193,
   "id": "e38e4221",
   "metadata": {},
   "outputs": [
    {
     "name": "stdout",
     "output_type": "stream",
     "text": [
      "The Accuracy for Test Data -- ANN model =  99.64609758691824\n"
     ]
    },
    {
     "data": {
      "text/html": [
       "<div>\n",
       "<style scoped>\n",
       "    .dataframe tbody tr th:only-of-type {\n",
       "        vertical-align: middle;\n",
       "    }\n",
       "\n",
       "    .dataframe tbody tr th {\n",
       "        vertical-align: top;\n",
       "    }\n",
       "\n",
       "    .dataframe thead th {\n",
       "        text-align: right;\n",
       "    }\n",
       "</style>\n",
       "<table border=\"1\" class=\"dataframe\">\n",
       "  <thead>\n",
       "    <tr style=\"text-align: right;\">\n",
       "      <th></th>\n",
       "      <th>Actual</th>\n",
       "      <th>Predicted</th>\n",
       "      <th>Error</th>\n",
       "      <th>APE %</th>\n",
       "    </tr>\n",
       "  </thead>\n",
       "  <tbody>\n",
       "    <tr>\n",
       "      <th>13312</th>\n",
       "      <td>134.46</td>\n",
       "      <td>134.671204</td>\n",
       "      <td>-0.001571</td>\n",
       "      <td>0.157075</td>\n",
       "    </tr>\n",
       "    <tr>\n",
       "      <th>12627</th>\n",
       "      <td>111.88</td>\n",
       "      <td>112.273460</td>\n",
       "      <td>-0.003517</td>\n",
       "      <td>0.351681</td>\n",
       "    </tr>\n",
       "    <tr>\n",
       "      <th>6393</th>\n",
       "      <td>133.72</td>\n",
       "      <td>134.256805</td>\n",
       "      <td>-0.004014</td>\n",
       "      <td>0.401440</td>\n",
       "    </tr>\n",
       "    <tr>\n",
       "      <th>4990</th>\n",
       "      <td>133.79</td>\n",
       "      <td>134.045410</td>\n",
       "      <td>-0.001909</td>\n",
       "      <td>0.190904</td>\n",
       "    </tr>\n",
       "    <tr>\n",
       "      <th>12462</th>\n",
       "      <td>110.77</td>\n",
       "      <td>111.272774</td>\n",
       "      <td>-0.004539</td>\n",
       "      <td>0.453890</td>\n",
       "    </tr>\n",
       "  </tbody>\n",
       "</table>\n",
       "</div>"
      ],
      "text/plain": [
       "       Actual   Predicted     Error     APE %\n",
       "13312  134.46  134.671204 -0.001571  0.157075\n",
       "12627  111.88  112.273460 -0.003517  0.351681\n",
       "6393   133.72  134.256805 -0.004014  0.401440\n",
       "4990   133.79  134.045410 -0.001909  0.190904\n",
       "12462  110.77  111.272774 -0.004539  0.453890"
      ]
     },
     "execution_count": 193,
     "metadata": {},
     "output_type": "execute_result"
    }
   ],
   "source": [
    "# Computing the absolute percent error\n",
    "APE=100*(abs(predictions_df['Actual']-predictions_df['Predicted'])/predictions_df['Actual'])\n",
    "print('The Accuracy for Test Data -- ANN model = ', 100-np.mean(APE))\n",
    "\n",
    "# adding absolute percent error to table\n",
    "predictions_df['APE %']=APE\n",
    "predictions_df.head()"
   ]
  },
  {
   "cell_type": "code",
   "execution_count": 194,
   "id": "b3cd683b",
   "metadata": {},
   "outputs": [
    {
     "data": {
      "text/html": [
       "<div>\n",
       "<style scoped>\n",
       "    .dataframe tbody tr th:only-of-type {\n",
       "        vertical-align: middle;\n",
       "    }\n",
       "\n",
       "    .dataframe tbody tr th {\n",
       "        vertical-align: top;\n",
       "    }\n",
       "\n",
       "    .dataframe thead th {\n",
       "        text-align: right;\n",
       "    }\n",
       "</style>\n",
       "<table border=\"1\" class=\"dataframe\">\n",
       "  <thead>\n",
       "    <tr style=\"text-align: right;\">\n",
       "      <th></th>\n",
       "      <th>Actual</th>\n",
       "      <th>Predicted</th>\n",
       "      <th>Error</th>\n",
       "      <th>APE %</th>\n",
       "    </tr>\n",
       "  </thead>\n",
       "  <tbody>\n",
       "    <tr>\n",
       "      <th>0</th>\n",
       "      <td>134.46</td>\n",
       "      <td>134.671204</td>\n",
       "      <td>-0.001571</td>\n",
       "      <td>0.157075</td>\n",
       "    </tr>\n",
       "    <tr>\n",
       "      <th>1</th>\n",
       "      <td>111.88</td>\n",
       "      <td>112.273460</td>\n",
       "      <td>-0.003517</td>\n",
       "      <td>0.351681</td>\n",
       "    </tr>\n",
       "    <tr>\n",
       "      <th>2</th>\n",
       "      <td>133.72</td>\n",
       "      <td>134.256805</td>\n",
       "      <td>-0.004014</td>\n",
       "      <td>0.401440</td>\n",
       "    </tr>\n",
       "    <tr>\n",
       "      <th>3</th>\n",
       "      <td>133.79</td>\n",
       "      <td>134.045410</td>\n",
       "      <td>-0.001909</td>\n",
       "      <td>0.190904</td>\n",
       "    </tr>\n",
       "    <tr>\n",
       "      <th>4</th>\n",
       "      <td>110.77</td>\n",
       "      <td>111.272774</td>\n",
       "      <td>-0.004539</td>\n",
       "      <td>0.453890</td>\n",
       "    </tr>\n",
       "    <tr>\n",
       "      <th>...</th>\n",
       "      <td>...</td>\n",
       "      <td>...</td>\n",
       "      <td>...</td>\n",
       "      <td>...</td>\n",
       "    </tr>\n",
       "    <tr>\n",
       "      <th>3003</th>\n",
       "      <td>119.25</td>\n",
       "      <td>119.828529</td>\n",
       "      <td>-0.004851</td>\n",
       "      <td>0.485140</td>\n",
       "    </tr>\n",
       "    <tr>\n",
       "      <th>3004</th>\n",
       "      <td>133.74</td>\n",
       "      <td>134.065872</td>\n",
       "      <td>-0.002437</td>\n",
       "      <td>0.243661</td>\n",
       "    </tr>\n",
       "    <tr>\n",
       "      <th>3005</th>\n",
       "      <td>146.31</td>\n",
       "      <td>147.964294</td>\n",
       "      <td>-0.011307</td>\n",
       "      <td>1.130678</td>\n",
       "    </tr>\n",
       "    <tr>\n",
       "      <th>3006</th>\n",
       "      <td>150.07</td>\n",
       "      <td>150.383911</td>\n",
       "      <td>-0.002092</td>\n",
       "      <td>0.209176</td>\n",
       "    </tr>\n",
       "    <tr>\n",
       "      <th>3007</th>\n",
       "      <td>111.77</td>\n",
       "      <td>111.412468</td>\n",
       "      <td>0.003199</td>\n",
       "      <td>0.319882</td>\n",
       "    </tr>\n",
       "  </tbody>\n",
       "</table>\n",
       "<p>3008 rows × 4 columns</p>\n",
       "</div>"
      ],
      "text/plain": [
       "      Actual   Predicted     Error     APE %\n",
       "0     134.46  134.671204 -0.001571  0.157075\n",
       "1     111.88  112.273460 -0.003517  0.351681\n",
       "2     133.72  134.256805 -0.004014  0.401440\n",
       "3     133.79  134.045410 -0.001909  0.190904\n",
       "4     110.77  111.272774 -0.004539  0.453890\n",
       "...      ...         ...       ...       ...\n",
       "3003  119.25  119.828529 -0.004851  0.485140\n",
       "3004  133.74  134.065872 -0.002437  0.243661\n",
       "3005  146.31  147.964294 -0.011307  1.130678\n",
       "3006  150.07  150.383911 -0.002092  0.209176\n",
       "3007  111.77  111.412468  0.003199  0.319882\n",
       "\n",
       "[3008 rows x 4 columns]"
      ]
     },
     "execution_count": 194,
     "metadata": {},
     "output_type": "execute_result"
    }
   ],
   "source": [
    "predictions_df['Error'] = (predictions_df['Actual'] - predictions_df['Predicted'])/(predictions_df['Actual'])\n",
    "predictions_df.reset_index(drop = True)"
   ]
  },
  {
   "attachments": {},
   "cell_type": "markdown",
   "id": "c7123437",
   "metadata": {},
   "source": [
    "### Visualizing the Relationship between the Actual and Predicted ValuesModel Validation<a class=\"anchor\" id=\"7.4\"></a>"
   ]
  },
  {
   "cell_type": "code",
   "execution_count": 177,
   "id": "5f7cd82f",
   "metadata": {},
   "outputs": [
    {
     "data": {
      "text/plain": [
       "<matplotlib.collections.PathCollection at 0x14c66d86fa0>"
      ]
     },
     "execution_count": 177,
     "metadata": {},
     "output_type": "execute_result"
    },
    {
     "data": {
      "image/png": "[encoded data removed]",
      "text/plain": [
       "<Figure size 864x576 with 1 Axes>"
      ]
     },
     "metadata": {},
     "output_type": "display_data"
    }
   ],
   "source": [
    "plt.figure(figsize=(12,8))\n",
    "plt.xlabel(\"Actual Values\")\n",
    "plt.ylabel(\"Predicted values\")\n",
    "plt.title(\"The Scatterplot of Relationship between Actual Values and Predictions\")\n",
    "plt.scatter(predictions_df['Actual'], predictions_df['Predicted'])"
   ]
  },
  {
   "cell_type": "code",
   "execution_count": 178,
   "id": "3a6ea4eb",
   "metadata": {},
   "outputs": [
    {
     "name": "stdout",
     "output_type": "stream",
     "text": [
      "MAE: 0.4806557943465863\n",
      "MSE: 0.46965791965828263\n",
      "RMSE: 0.6853159268966997\n"
     ]
    }
   ],
   "source": [
    "# We will evaluate our model performance by calculating the residual sum of squares and the explained variance score\n",
    "from sklearn import metrics\n",
    "print(\"MAE:\",metrics.mean_absolute_error(y_test,y_predict_test))\n",
    "print (\"MSE:\",metrics.mean_squared_error(y_test,y_predict_test))\n",
    "print(\"RMSE:\",np.sqrt(metrics.mean_squared_error(y_test,y_predict_test)))"
   ]
  },
  {
   "cell_type": "code",
   "execution_count": 198,
   "id": "6dfd4976",
   "metadata": {},
   "outputs": [
    {
     "name": "stdout",
     "output_type": "stream",
     "text": [
      "94/94 [==============================] - 0s 2ms/step\n",
      "376/376 [==============================] - 1s 2ms/step\n",
      "R2_score (train):  0.9973425736949953\n",
      "R2_score (test):  0.9970628081081423\n"
     ]
    }
   ],
   "source": [
    "from sklearn.metrics import mean_squared_error, mean_absolute_error, r2_score\n",
    "y_predict_test = model.predict(x_test_scaled)\n",
    "y_predict_train = model.predict(x_train_scaled) \n",
    "print('R2_score (train): ',r2_score(y_train, y_predict_train))\n",
    "print('R2_score (test): ',r2_score(y_test, y_predict_test))"
   ]
  },
  {
   "cell_type": "code",
   "execution_count": 203,
   "id": "473f4ef8",
   "metadata": {},
   "outputs": [
    {
     "name": "stdout",
     "output_type": "stream",
     "text": [
      "This shows our model predict % 99.74 of the target correctly\n"
     ]
    }
   ],
   "source": [
    "#Evaluation of  the explained variance score (R^2)\n",
    "print('This shows our model predict % {} of the target correctly'.format(np.round(metrics.explained_variance_score(y_test,y_predict_test)*100,2))) "
   ]
  },
  {
   "cell_type": "code",
   "execution_count": 180,
   "id": "fdff65b8",
   "metadata": {},
   "outputs": [
    {
     "data": {
      "text/plain": [
       "<AxesSubplot:ylabel='Density'>"
      ]
     },
     "execution_count": 180,
     "metadata": {},
     "output_type": "execute_result"
    },
    {
     "data": {
      "image/png": "[encoded data removed]",
      "text/plain": [
       "<Figure size 864x720 with 1 Axes>"
      ]
     },
     "metadata": {},
     "output_type": "display_data"
    }
   ],
   "source": [
    "plt.figure(figsize=(12,10))\n",
    "sns.distplot(y_test-y_predict_test,bins=50)\n",
    "#this figure also proves that our model fits very good"
   ]
  }
 ],
 "metadata": {
  "kernelspec": {
   "display_name": "Python 3 (ipykernel)",
   "language": "python",
   "name": "python3"
  },
  "language_info": {
   "codemirror_mode": {
    "name": "ipython",
    "version": 3
   },
   "file_extension": ".py",
   "mimetype": "text/x-python",
   "name": "python",
   "nbconvert_exporter": "python",
   "pygments_lexer": "ipython3",
   "version": "3.9.12"
  }
 },
 "nbformat": 4,
 "nbformat_minor": 5
}
